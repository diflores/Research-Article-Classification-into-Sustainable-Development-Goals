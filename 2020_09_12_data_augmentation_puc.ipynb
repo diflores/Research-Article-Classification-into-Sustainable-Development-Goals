{
  "nbformat": 4,
  "nbformat_minor": 0,
  "metadata": {
    "colab": {
      "name": "2020-09-12_data_augmentation_puc.ipynb",
      "provenance": [],
      "collapsed_sections": [],
      "machine_shape": "hm"
    },
    "kernelspec": {
      "name": "python3",
      "display_name": "Python 3"
    },
    "accelerator": "GPU",
    "widgets": {
      "application/vnd.jupyter.widget-state+json": {
        "a0c1161b344f4226877f5a195f3241b8": {
          "model_module": "@jupyter-widgets/controls",
          "model_name": "HBoxModel",
          "state": {
            "_view_name": "HBoxView",
            "_dom_classes": [],
            "_model_name": "HBoxModel",
            "_view_module": "@jupyter-widgets/controls",
            "_model_module_version": "1.5.0",
            "_view_count": null,
            "_view_module_version": "1.5.0",
            "box_style": "",
            "layout": "IPY_MODEL_13dc1ed8fbcc4e4e906739707b237f0e",
            "_model_module": "@jupyter-widgets/controls",
            "children": [
              "IPY_MODEL_870338b2919e45e8a06389dc0dedad7d",
              "IPY_MODEL_7041f56e0c304b5983cec89c981504ee"
            ]
          }
        },
        "13dc1ed8fbcc4e4e906739707b237f0e": {
          "model_module": "@jupyter-widgets/base",
          "model_name": "LayoutModel",
          "state": {
            "_view_name": "LayoutView",
            "grid_template_rows": null,
            "right": null,
            "justify_content": null,
            "_view_module": "@jupyter-widgets/base",
            "overflow": null,
            "_model_module_version": "1.2.0",
            "_view_count": null,
            "flex_flow": null,
            "width": null,
            "min_width": null,
            "border": null,
            "align_items": null,
            "bottom": null,
            "_model_module": "@jupyter-widgets/base",
            "top": null,
            "grid_column": null,
            "overflow_y": null,
            "overflow_x": null,
            "grid_auto_flow": null,
            "grid_area": null,
            "grid_template_columns": null,
            "flex": null,
            "_model_name": "LayoutModel",
            "justify_items": null,
            "grid_row": null,
            "max_height": null,
            "align_content": null,
            "visibility": null,
            "align_self": null,
            "height": null,
            "min_height": null,
            "padding": null,
            "grid_auto_rows": null,
            "grid_gap": null,
            "max_width": null,
            "order": null,
            "_view_module_version": "1.2.0",
            "grid_template_areas": null,
            "object_position": null,
            "object_fit": null,
            "grid_auto_columns": null,
            "margin": null,
            "display": null,
            "left": null
          }
        },
        "870338b2919e45e8a06389dc0dedad7d": {
          "model_module": "@jupyter-widgets/controls",
          "model_name": "FloatProgressModel",
          "state": {
            "_view_name": "ProgressView",
            "style": "IPY_MODEL_3e7954e0ea0b468b992ada5c80614c2b",
            "_dom_classes": [],
            "description": "Downloading: 100%",
            "_model_name": "FloatProgressModel",
            "bar_style": "success",
            "max": 411,
            "_view_module": "@jupyter-widgets/controls",
            "_model_module_version": "1.5.0",
            "value": 411,
            "_view_count": null,
            "_view_module_version": "1.5.0",
            "orientation": "horizontal",
            "min": 0,
            "description_tooltip": null,
            "_model_module": "@jupyter-widgets/controls",
            "layout": "IPY_MODEL_2a5f313dd97b4ca58fa7c7e3ca1458f8"
          }
        },
        "7041f56e0c304b5983cec89c981504ee": {
          "model_module": "@jupyter-widgets/controls",
          "model_name": "HTMLModel",
          "state": {
            "_view_name": "HTMLView",
            "style": "IPY_MODEL_3337a7ca118b4d369512aba6705bc92b",
            "_dom_classes": [],
            "description": "",
            "_model_name": "HTMLModel",
            "placeholder": "​",
            "_view_module": "@jupyter-widgets/controls",
            "_model_module_version": "1.5.0",
            "value": " 411/411 [00:00&lt;00:00, 597B/s]",
            "_view_count": null,
            "_view_module_version": "1.5.0",
            "description_tooltip": null,
            "_model_module": "@jupyter-widgets/controls",
            "layout": "IPY_MODEL_4ebca9be23554834b38d72be0045d0bf"
          }
        },
        "3e7954e0ea0b468b992ada5c80614c2b": {
          "model_module": "@jupyter-widgets/controls",
          "model_name": "ProgressStyleModel",
          "state": {
            "_view_name": "StyleView",
            "_model_name": "ProgressStyleModel",
            "description_width": "initial",
            "_view_module": "@jupyter-widgets/base",
            "_model_module_version": "1.5.0",
            "_view_count": null,
            "_view_module_version": "1.2.0",
            "bar_color": null,
            "_model_module": "@jupyter-widgets/controls"
          }
        },
        "2a5f313dd97b4ca58fa7c7e3ca1458f8": {
          "model_module": "@jupyter-widgets/base",
          "model_name": "LayoutModel",
          "state": {
            "_view_name": "LayoutView",
            "grid_template_rows": null,
            "right": null,
            "justify_content": null,
            "_view_module": "@jupyter-widgets/base",
            "overflow": null,
            "_model_module_version": "1.2.0",
            "_view_count": null,
            "flex_flow": null,
            "width": null,
            "min_width": null,
            "border": null,
            "align_items": null,
            "bottom": null,
            "_model_module": "@jupyter-widgets/base",
            "top": null,
            "grid_column": null,
            "overflow_y": null,
            "overflow_x": null,
            "grid_auto_flow": null,
            "grid_area": null,
            "grid_template_columns": null,
            "flex": null,
            "_model_name": "LayoutModel",
            "justify_items": null,
            "grid_row": null,
            "max_height": null,
            "align_content": null,
            "visibility": null,
            "align_self": null,
            "height": null,
            "min_height": null,
            "padding": null,
            "grid_auto_rows": null,
            "grid_gap": null,
            "max_width": null,
            "order": null,
            "_view_module_version": "1.2.0",
            "grid_template_areas": null,
            "object_position": null,
            "object_fit": null,
            "grid_auto_columns": null,
            "margin": null,
            "display": null,
            "left": null
          }
        },
        "3337a7ca118b4d369512aba6705bc92b": {
          "model_module": "@jupyter-widgets/controls",
          "model_name": "DescriptionStyleModel",
          "state": {
            "_view_name": "StyleView",
            "_model_name": "DescriptionStyleModel",
            "description_width": "",
            "_view_module": "@jupyter-widgets/base",
            "_model_module_version": "1.5.0",
            "_view_count": null,
            "_view_module_version": "1.2.0",
            "_model_module": "@jupyter-widgets/controls"
          }
        },
        "4ebca9be23554834b38d72be0045d0bf": {
          "model_module": "@jupyter-widgets/base",
          "model_name": "LayoutModel",
          "state": {
            "_view_name": "LayoutView",
            "grid_template_rows": null,
            "right": null,
            "justify_content": null,
            "_view_module": "@jupyter-widgets/base",
            "overflow": null,
            "_model_module_version": "1.2.0",
            "_view_count": null,
            "flex_flow": null,
            "width": null,
            "min_width": null,
            "border": null,
            "align_items": null,
            "bottom": null,
            "_model_module": "@jupyter-widgets/base",
            "top": null,
            "grid_column": null,
            "overflow_y": null,
            "overflow_x": null,
            "grid_auto_flow": null,
            "grid_area": null,
            "grid_template_columns": null,
            "flex": null,
            "_model_name": "LayoutModel",
            "justify_items": null,
            "grid_row": null,
            "max_height": null,
            "align_content": null,
            "visibility": null,
            "align_self": null,
            "height": null,
            "min_height": null,
            "padding": null,
            "grid_auto_rows": null,
            "grid_gap": null,
            "max_width": null,
            "order": null,
            "_view_module_version": "1.2.0",
            "grid_template_areas": null,
            "object_position": null,
            "object_fit": null,
            "grid_auto_columns": null,
            "margin": null,
            "display": null,
            "left": null
          }
        },
        "55e573c7e0b1408fbeb6cf9ac835bcad": {
          "model_module": "@jupyter-widgets/controls",
          "model_name": "HBoxModel",
          "state": {
            "_view_name": "HBoxView",
            "_dom_classes": [],
            "_model_name": "HBoxModel",
            "_view_module": "@jupyter-widgets/controls",
            "_model_module_version": "1.5.0",
            "_view_count": null,
            "_view_module_version": "1.5.0",
            "box_style": "",
            "layout": "IPY_MODEL_9bd13986d3cb499190601ff8adb05511",
            "_model_module": "@jupyter-widgets/controls",
            "children": [
              "IPY_MODEL_db3bdcc1c617476aa4d4fd01f5064ea7",
              "IPY_MODEL_5a0d8c819323461bb9c869fb0fa000a0"
            ]
          }
        },
        "9bd13986d3cb499190601ff8adb05511": {
          "model_module": "@jupyter-widgets/base",
          "model_name": "LayoutModel",
          "state": {
            "_view_name": "LayoutView",
            "grid_template_rows": null,
            "right": null,
            "justify_content": null,
            "_view_module": "@jupyter-widgets/base",
            "overflow": null,
            "_model_module_version": "1.2.0",
            "_view_count": null,
            "flex_flow": null,
            "width": null,
            "min_width": null,
            "border": null,
            "align_items": null,
            "bottom": null,
            "_model_module": "@jupyter-widgets/base",
            "top": null,
            "grid_column": null,
            "overflow_y": null,
            "overflow_x": null,
            "grid_auto_flow": null,
            "grid_area": null,
            "grid_template_columns": null,
            "flex": null,
            "_model_name": "LayoutModel",
            "justify_items": null,
            "grid_row": null,
            "max_height": null,
            "align_content": null,
            "visibility": null,
            "align_self": null,
            "height": null,
            "min_height": null,
            "padding": null,
            "grid_auto_rows": null,
            "grid_gap": null,
            "max_width": null,
            "order": null,
            "_view_module_version": "1.2.0",
            "grid_template_areas": null,
            "object_position": null,
            "object_fit": null,
            "grid_auto_columns": null,
            "margin": null,
            "display": null,
            "left": null
          }
        },
        "db3bdcc1c617476aa4d4fd01f5064ea7": {
          "model_module": "@jupyter-widgets/controls",
          "model_name": "FloatProgressModel",
          "state": {
            "_view_name": "ProgressView",
            "style": "IPY_MODEL_4421d7f208234f8bb08e98fad7e7efc5",
            "_dom_classes": [],
            "description": "Downloading: 100%",
            "_model_name": "FloatProgressModel",
            "bar_style": "success",
            "max": 213450,
            "_view_module": "@jupyter-widgets/controls",
            "_model_module_version": "1.5.0",
            "value": 213450,
            "_view_count": null,
            "_view_module_version": "1.5.0",
            "orientation": "horizontal",
            "min": 0,
            "description_tooltip": null,
            "_model_module": "@jupyter-widgets/controls",
            "layout": "IPY_MODEL_1c052e09af7b44e5a0eab7ab5401f642"
          }
        },
        "5a0d8c819323461bb9c869fb0fa000a0": {
          "model_module": "@jupyter-widgets/controls",
          "model_name": "HTMLModel",
          "state": {
            "_view_name": "HTMLView",
            "style": "IPY_MODEL_f02360408d3049aab855faeeb8c17589",
            "_dom_classes": [],
            "description": "",
            "_model_name": "HTMLModel",
            "placeholder": "​",
            "_view_module": "@jupyter-widgets/controls",
            "_model_module_version": "1.5.0",
            "value": " 213k/213k [00:00&lt;00:00, 672kB/s]",
            "_view_count": null,
            "_view_module_version": "1.5.0",
            "description_tooltip": null,
            "_model_module": "@jupyter-widgets/controls",
            "layout": "IPY_MODEL_ccc44a1a95594befb3259f338ba200ae"
          }
        },
        "4421d7f208234f8bb08e98fad7e7efc5": {
          "model_module": "@jupyter-widgets/controls",
          "model_name": "ProgressStyleModel",
          "state": {
            "_view_name": "StyleView",
            "_model_name": "ProgressStyleModel",
            "description_width": "initial",
            "_view_module": "@jupyter-widgets/base",
            "_model_module_version": "1.5.0",
            "_view_count": null,
            "_view_module_version": "1.2.0",
            "bar_color": null,
            "_model_module": "@jupyter-widgets/controls"
          }
        },
        "1c052e09af7b44e5a0eab7ab5401f642": {
          "model_module": "@jupyter-widgets/base",
          "model_name": "LayoutModel",
          "state": {
            "_view_name": "LayoutView",
            "grid_template_rows": null,
            "right": null,
            "justify_content": null,
            "_view_module": "@jupyter-widgets/base",
            "overflow": null,
            "_model_module_version": "1.2.0",
            "_view_count": null,
            "flex_flow": null,
            "width": null,
            "min_width": null,
            "border": null,
            "align_items": null,
            "bottom": null,
            "_model_module": "@jupyter-widgets/base",
            "top": null,
            "grid_column": null,
            "overflow_y": null,
            "overflow_x": null,
            "grid_auto_flow": null,
            "grid_area": null,
            "grid_template_columns": null,
            "flex": null,
            "_model_name": "LayoutModel",
            "justify_items": null,
            "grid_row": null,
            "max_height": null,
            "align_content": null,
            "visibility": null,
            "align_self": null,
            "height": null,
            "min_height": null,
            "padding": null,
            "grid_auto_rows": null,
            "grid_gap": null,
            "max_width": null,
            "order": null,
            "_view_module_version": "1.2.0",
            "grid_template_areas": null,
            "object_position": null,
            "object_fit": null,
            "grid_auto_columns": null,
            "margin": null,
            "display": null,
            "left": null
          }
        },
        "f02360408d3049aab855faeeb8c17589": {
          "model_module": "@jupyter-widgets/controls",
          "model_name": "DescriptionStyleModel",
          "state": {
            "_view_name": "StyleView",
            "_model_name": "DescriptionStyleModel",
            "description_width": "",
            "_view_module": "@jupyter-widgets/base",
            "_model_module_version": "1.5.0",
            "_view_count": null,
            "_view_module_version": "1.2.0",
            "_model_module": "@jupyter-widgets/controls"
          }
        },
        "ccc44a1a95594befb3259f338ba200ae": {
          "model_module": "@jupyter-widgets/base",
          "model_name": "LayoutModel",
          "state": {
            "_view_name": "LayoutView",
            "grid_template_rows": null,
            "right": null,
            "justify_content": null,
            "_view_module": "@jupyter-widgets/base",
            "overflow": null,
            "_model_module_version": "1.2.0",
            "_view_count": null,
            "flex_flow": null,
            "width": null,
            "min_width": null,
            "border": null,
            "align_items": null,
            "bottom": null,
            "_model_module": "@jupyter-widgets/base",
            "top": null,
            "grid_column": null,
            "overflow_y": null,
            "overflow_x": null,
            "grid_auto_flow": null,
            "grid_area": null,
            "grid_template_columns": null,
            "flex": null,
            "_model_name": "LayoutModel",
            "justify_items": null,
            "grid_row": null,
            "max_height": null,
            "align_content": null,
            "visibility": null,
            "align_self": null,
            "height": null,
            "min_height": null,
            "padding": null,
            "grid_auto_rows": null,
            "grid_gap": null,
            "max_width": null,
            "order": null,
            "_view_module_version": "1.2.0",
            "grid_template_areas": null,
            "object_position": null,
            "object_fit": null,
            "grid_auto_columns": null,
            "margin": null,
            "display": null,
            "left": null
          }
        },
        "a4bb12d21b164c4394289daa80909fbb": {
          "model_module": "@jupyter-widgets/controls",
          "model_name": "HBoxModel",
          "state": {
            "_view_name": "HBoxView",
            "_dom_classes": [],
            "_model_name": "HBoxModel",
            "_view_module": "@jupyter-widgets/controls",
            "_model_module_version": "1.5.0",
            "_view_count": null,
            "_view_module_version": "1.5.0",
            "box_style": "",
            "layout": "IPY_MODEL_f95c809fb14c4208aa67865eac767071",
            "_model_module": "@jupyter-widgets/controls",
            "children": [
              "IPY_MODEL_21d8664c91f04eb3950eca956f6193c7",
              "IPY_MODEL_25dee7dbb4b34aae89ec463e22c4c834"
            ]
          }
        },
        "f95c809fb14c4208aa67865eac767071": {
          "model_module": "@jupyter-widgets/base",
          "model_name": "LayoutModel",
          "state": {
            "_view_name": "LayoutView",
            "grid_template_rows": null,
            "right": null,
            "justify_content": null,
            "_view_module": "@jupyter-widgets/base",
            "overflow": null,
            "_model_module_version": "1.2.0",
            "_view_count": null,
            "flex_flow": null,
            "width": null,
            "min_width": null,
            "border": null,
            "align_items": null,
            "bottom": null,
            "_model_module": "@jupyter-widgets/base",
            "top": null,
            "grid_column": null,
            "overflow_y": null,
            "overflow_x": null,
            "grid_auto_flow": null,
            "grid_area": null,
            "grid_template_columns": null,
            "flex": null,
            "_model_name": "LayoutModel",
            "justify_items": null,
            "grid_row": null,
            "max_height": null,
            "align_content": null,
            "visibility": null,
            "align_self": null,
            "height": null,
            "min_height": null,
            "padding": null,
            "grid_auto_rows": null,
            "grid_gap": null,
            "max_width": null,
            "order": null,
            "_view_module_version": "1.2.0",
            "grid_template_areas": null,
            "object_position": null,
            "object_fit": null,
            "grid_auto_columns": null,
            "margin": null,
            "display": null,
            "left": null
          }
        },
        "21d8664c91f04eb3950eca956f6193c7": {
          "model_module": "@jupyter-widgets/controls",
          "model_name": "FloatProgressModel",
          "state": {
            "_view_name": "ProgressView",
            "style": "IPY_MODEL_8055908c09ae4d21991ec730630e1bf4",
            "_dom_classes": [],
            "description": "Downloading: 100%",
            "_model_name": "FloatProgressModel",
            "bar_style": "success",
            "max": 263273408,
            "_view_module": "@jupyter-widgets/controls",
            "_model_module_version": "1.5.0",
            "value": 263273408,
            "_view_count": null,
            "_view_module_version": "1.5.0",
            "orientation": "horizontal",
            "min": 0,
            "description_tooltip": null,
            "_model_module": "@jupyter-widgets/controls",
            "layout": "IPY_MODEL_dff522fd0741432982764c7e12930eee"
          }
        },
        "25dee7dbb4b34aae89ec463e22c4c834": {
          "model_module": "@jupyter-widgets/controls",
          "model_name": "HTMLModel",
          "state": {
            "_view_name": "HTMLView",
            "style": "IPY_MODEL_e1abe429b4f846e09e2d2c1616592a83",
            "_dom_classes": [],
            "description": "",
            "_model_name": "HTMLModel",
            "placeholder": "​",
            "_view_module": "@jupyter-widgets/controls",
            "_model_module_version": "1.5.0",
            "value": " 263M/263M [00:06&lt;00:00, 40.8MB/s]",
            "_view_count": null,
            "_view_module_version": "1.5.0",
            "description_tooltip": null,
            "_model_module": "@jupyter-widgets/controls",
            "layout": "IPY_MODEL_62b547f858f54695ac737383129313de"
          }
        },
        "8055908c09ae4d21991ec730630e1bf4": {
          "model_module": "@jupyter-widgets/controls",
          "model_name": "ProgressStyleModel",
          "state": {
            "_view_name": "StyleView",
            "_model_name": "ProgressStyleModel",
            "description_width": "initial",
            "_view_module": "@jupyter-widgets/base",
            "_model_module_version": "1.5.0",
            "_view_count": null,
            "_view_module_version": "1.2.0",
            "bar_color": null,
            "_model_module": "@jupyter-widgets/controls"
          }
        },
        "dff522fd0741432982764c7e12930eee": {
          "model_module": "@jupyter-widgets/base",
          "model_name": "LayoutModel",
          "state": {
            "_view_name": "LayoutView",
            "grid_template_rows": null,
            "right": null,
            "justify_content": null,
            "_view_module": "@jupyter-widgets/base",
            "overflow": null,
            "_model_module_version": "1.2.0",
            "_view_count": null,
            "flex_flow": null,
            "width": null,
            "min_width": null,
            "border": null,
            "align_items": null,
            "bottom": null,
            "_model_module": "@jupyter-widgets/base",
            "top": null,
            "grid_column": null,
            "overflow_y": null,
            "overflow_x": null,
            "grid_auto_flow": null,
            "grid_area": null,
            "grid_template_columns": null,
            "flex": null,
            "_model_name": "LayoutModel",
            "justify_items": null,
            "grid_row": null,
            "max_height": null,
            "align_content": null,
            "visibility": null,
            "align_self": null,
            "height": null,
            "min_height": null,
            "padding": null,
            "grid_auto_rows": null,
            "grid_gap": null,
            "max_width": null,
            "order": null,
            "_view_module_version": "1.2.0",
            "grid_template_areas": null,
            "object_position": null,
            "object_fit": null,
            "grid_auto_columns": null,
            "margin": null,
            "display": null,
            "left": null
          }
        },
        "e1abe429b4f846e09e2d2c1616592a83": {
          "model_module": "@jupyter-widgets/controls",
          "model_name": "DescriptionStyleModel",
          "state": {
            "_view_name": "StyleView",
            "_model_name": "DescriptionStyleModel",
            "description_width": "",
            "_view_module": "@jupyter-widgets/base",
            "_model_module_version": "1.5.0",
            "_view_count": null,
            "_view_module_version": "1.2.0",
            "_model_module": "@jupyter-widgets/controls"
          }
        },
        "62b547f858f54695ac737383129313de": {
          "model_module": "@jupyter-widgets/base",
          "model_name": "LayoutModel",
          "state": {
            "_view_name": "LayoutView",
            "grid_template_rows": null,
            "right": null,
            "justify_content": null,
            "_view_module": "@jupyter-widgets/base",
            "overflow": null,
            "_model_module_version": "1.2.0",
            "_view_count": null,
            "flex_flow": null,
            "width": null,
            "min_width": null,
            "border": null,
            "align_items": null,
            "bottom": null,
            "_model_module": "@jupyter-widgets/base",
            "top": null,
            "grid_column": null,
            "overflow_y": null,
            "overflow_x": null,
            "grid_auto_flow": null,
            "grid_area": null,
            "grid_template_columns": null,
            "flex": null,
            "_model_name": "LayoutModel",
            "justify_items": null,
            "grid_row": null,
            "max_height": null,
            "align_content": null,
            "visibility": null,
            "align_self": null,
            "height": null,
            "min_height": null,
            "padding": null,
            "grid_auto_rows": null,
            "grid_gap": null,
            "max_width": null,
            "order": null,
            "_view_module_version": "1.2.0",
            "grid_template_areas": null,
            "object_position": null,
            "object_fit": null,
            "grid_auto_columns": null,
            "margin": null,
            "display": null,
            "left": null
          }
        }
      }
    }
  },
  "cells": [
    {
      "cell_type": "code",
      "metadata": {
        "id": "m5AYyxjP3sPY",
        "colab": {
          "base_uri": "https://localhost:8080/"
        },
        "outputId": "c6a5687e-9fae-475d-8398-e33f570d19e4"
      },
      "source": [
        "!pip install nlpaug\n",
        "!pip install transformers"
      ],
      "execution_count": null,
      "outputs": [
        {
          "output_type": "stream",
          "text": [
            "Collecting nlpaug\n",
            "\u001b[?25l  Downloading https://files.pythonhosted.org/packages/66/40/18941536abc63578010e87808089eb3184a8d027df03bfc226894698f491/nlpaug-1.1.0-py3-none-any.whl (380kB)\n",
            "\r\u001b[K     |▉                               | 10kB 20.9MB/s eta 0:00:01\r\u001b[K     |█▊                              | 20kB 27.4MB/s eta 0:00:01\r\u001b[K     |██▋                             | 30kB 26.3MB/s eta 0:00:01\r\u001b[K     |███▍                            | 40kB 19.4MB/s eta 0:00:01\r\u001b[K     |████▎                           | 51kB 15.3MB/s eta 0:00:01\r\u001b[K     |█████▏                          | 61kB 17.0MB/s eta 0:00:01\r\u001b[K     |██████                          | 71kB 13.9MB/s eta 0:00:01\r\u001b[K     |██████▉                         | 81kB 13.8MB/s eta 0:00:01\r\u001b[K     |███████▊                        | 92kB 13.3MB/s eta 0:00:01\r\u001b[K     |████████▋                       | 102kB 12.3MB/s eta 0:00:01\r\u001b[K     |█████████▌                      | 112kB 12.3MB/s eta 0:00:01\r\u001b[K     |██████████▎                     | 122kB 12.3MB/s eta 0:00:01\r\u001b[K     |███████████▏                    | 133kB 12.3MB/s eta 0:00:01\r\u001b[K     |████████████                    | 143kB 12.3MB/s eta 0:00:01\r\u001b[K     |█████████████                   | 153kB 12.3MB/s eta 0:00:01\r\u001b[K     |█████████████▊                  | 163kB 12.3MB/s eta 0:00:01\r\u001b[K     |██████████████▋                 | 174kB 12.3MB/s eta 0:00:01\r\u001b[K     |███████████████▌                | 184kB 12.3MB/s eta 0:00:01\r\u001b[K     |████████████████▍               | 194kB 12.3MB/s eta 0:00:01\r\u001b[K     |█████████████████▏              | 204kB 12.3MB/s eta 0:00:01\r\u001b[K     |██████████████████              | 215kB 12.3MB/s eta 0:00:01\r\u001b[K     |███████████████████             | 225kB 12.3MB/s eta 0:00:01\r\u001b[K     |███████████████████▉            | 235kB 12.3MB/s eta 0:00:01\r\u001b[K     |████████████████████▋           | 245kB 12.3MB/s eta 0:00:01\r\u001b[K     |█████████████████████▌          | 256kB 12.3MB/s eta 0:00:01\r\u001b[K     |██████████████████████▍         | 266kB 12.3MB/s eta 0:00:01\r\u001b[K     |███████████████████████▎        | 276kB 12.3MB/s eta 0:00:01\r\u001b[K     |████████████████████████        | 286kB 12.3MB/s eta 0:00:01\r\u001b[K     |█████████████████████████       | 296kB 12.3MB/s eta 0:00:01\r\u001b[K     |█████████████████████████▉      | 307kB 12.3MB/s eta 0:00:01\r\u001b[K     |██████████████████████████▊     | 317kB 12.3MB/s eta 0:00:01\r\u001b[K     |███████████████████████████▌    | 327kB 12.3MB/s eta 0:00:01\r\u001b[K     |████████████████████████████▍   | 337kB 12.3MB/s eta 0:00:01\r\u001b[K     |█████████████████████████████▎  | 348kB 12.3MB/s eta 0:00:01\r\u001b[K     |██████████████████████████████▏ | 358kB 12.3MB/s eta 0:00:01\r\u001b[K     |███████████████████████████████ | 368kB 12.3MB/s eta 0:00:01\r\u001b[K     |███████████████████████████████▉| 378kB 12.3MB/s eta 0:00:01\r\u001b[K     |████████████████████████████████| 389kB 12.3MB/s \n",
            "\u001b[?25hInstalling collected packages: nlpaug\n",
            "Successfully installed nlpaug-1.1.0\n",
            "Collecting transformers\n",
            "\u001b[?25l  Downloading https://files.pythonhosted.org/packages/3a/83/e74092e7f24a08d751aa59b37a9fc572b2e4af3918cb66f7766c3affb1b4/transformers-3.5.1-py3-none-any.whl (1.3MB)\n",
            "\u001b[K     |████████████████████████████████| 1.3MB 13.8MB/s \n",
            "\u001b[?25hCollecting tokenizers==0.9.3\n",
            "\u001b[?25l  Downloading https://files.pythonhosted.org/packages/4c/34/b39eb9994bc3c999270b69c9eea40ecc6f0e97991dba28282b9fd32d44ee/tokenizers-0.9.3-cp36-cp36m-manylinux1_x86_64.whl (2.9MB)\n",
            "\u001b[K     |████████████████████████████████| 2.9MB 43.9MB/s \n",
            "\u001b[?25hRequirement already satisfied: regex!=2019.12.17 in /usr/local/lib/python3.6/dist-packages (from transformers) (2019.12.20)\n",
            "Requirement already satisfied: tqdm>=4.27 in /usr/local/lib/python3.6/dist-packages (from transformers) (4.41.1)\n",
            "Requirement already satisfied: filelock in /usr/local/lib/python3.6/dist-packages (from transformers) (3.0.12)\n",
            "Collecting sacremoses\n",
            "\u001b[?25l  Downloading https://files.pythonhosted.org/packages/7d/34/09d19aff26edcc8eb2a01bed8e98f13a1537005d31e95233fd48216eed10/sacremoses-0.0.43.tar.gz (883kB)\n",
            "\u001b[K     |████████████████████████████████| 890kB 48.7MB/s \n",
            "\u001b[?25hRequirement already satisfied: requests in /usr/local/lib/python3.6/dist-packages (from transformers) (2.23.0)\n",
            "Requirement already satisfied: numpy in /usr/local/lib/python3.6/dist-packages (from transformers) (1.18.5)\n",
            "Requirement already satisfied: protobuf in /usr/local/lib/python3.6/dist-packages (from transformers) (3.12.4)\n",
            "Requirement already satisfied: packaging in /usr/local/lib/python3.6/dist-packages (from transformers) (20.4)\n",
            "Collecting sentencepiece==0.1.91\n",
            "\u001b[?25l  Downloading https://files.pythonhosted.org/packages/d4/a4/d0a884c4300004a78cca907a6ff9a5e9fe4f090f5d95ab341c53d28cbc58/sentencepiece-0.1.91-cp36-cp36m-manylinux1_x86_64.whl (1.1MB)\n",
            "\u001b[K     |████████████████████████████████| 1.1MB 52.1MB/s \n",
            "\u001b[?25hRequirement already satisfied: dataclasses; python_version < \"3.7\" in /usr/local/lib/python3.6/dist-packages (from transformers) (0.7)\n",
            "Requirement already satisfied: six in /usr/local/lib/python3.6/dist-packages (from sacremoses->transformers) (1.15.0)\n",
            "Requirement already satisfied: click in /usr/local/lib/python3.6/dist-packages (from sacremoses->transformers) (7.1.2)\n",
            "Requirement already satisfied: joblib in /usr/local/lib/python3.6/dist-packages (from sacremoses->transformers) (0.17.0)\n",
            "Requirement already satisfied: idna<3,>=2.5 in /usr/local/lib/python3.6/dist-packages (from requests->transformers) (2.10)\n",
            "Requirement already satisfied: chardet<4,>=3.0.2 in /usr/local/lib/python3.6/dist-packages (from requests->transformers) (3.0.4)\n",
            "Requirement already satisfied: urllib3!=1.25.0,!=1.25.1,<1.26,>=1.21.1 in /usr/local/lib/python3.6/dist-packages (from requests->transformers) (1.24.3)\n",
            "Requirement already satisfied: certifi>=2017.4.17 in /usr/local/lib/python3.6/dist-packages (from requests->transformers) (2020.6.20)\n",
            "Requirement already satisfied: setuptools in /usr/local/lib/python3.6/dist-packages (from protobuf->transformers) (50.3.2)\n",
            "Requirement already satisfied: pyparsing>=2.0.2 in /usr/local/lib/python3.6/dist-packages (from packaging->transformers) (2.4.7)\n",
            "Building wheels for collected packages: sacremoses\n",
            "  Building wheel for sacremoses (setup.py) ... \u001b[?25l\u001b[?25hdone\n",
            "  Created wheel for sacremoses: filename=sacremoses-0.0.43-cp36-none-any.whl size=893257 sha256=80f97195d988a1dcfc950add295d345a10cf6bd47a6f5acb0d84803795d69984\n",
            "  Stored in directory: /root/.cache/pip/wheels/29/3c/fd/7ce5c3f0666dab31a50123635e6fb5e19ceb42ce38d4e58f45\n",
            "Successfully built sacremoses\n",
            "Installing collected packages: tokenizers, sacremoses, sentencepiece, transformers\n",
            "Successfully installed sacremoses-0.0.43 sentencepiece-0.1.91 tokenizers-0.9.3 transformers-3.5.1\n"
          ],
          "name": "stdout"
        }
      ]
    },
    {
      "cell_type": "code",
      "metadata": {
        "id": "QneCMwYo6_82"
      },
      "source": [
        "import itertools\n",
        "from typing import List, Dict, Union\n",
        "\n",
        "import nlpaug.augmenter.word as naw\n",
        "import pandas as pd"
      ],
      "execution_count": null,
      "outputs": []
    },
    {
      "cell_type": "code",
      "metadata": {
        "id": "iH3oDrTU7TZ0"
      },
      "source": [
        "ROOT_PATH = \"/content/drive/My Drive/Magíster 2020\""
      ],
      "execution_count": null,
      "outputs": []
    },
    {
      "cell_type": "code",
      "metadata": {
        "id": "SVPKyuC01Id_"
      },
      "source": [
        "puc_train = pd.read_json(f\"{ROOT_PATH}/Ordenado/new_train_test_data/puc_train_70.json\", orient=\"records\")\n",
        "puc_test = pd.read_json(f\"{ROOT_PATH}/Ordenado/new_train_test_data/puc_test_30.json\", orient=\"records\")"
      ],
      "execution_count": null,
      "outputs": []
    },
    {
      "cell_type": "code",
      "metadata": {
        "id": "aCffueFSNH3z",
        "colab": {
          "base_uri": "https://localhost:8080/"
        },
        "outputId": "92406827-dd01-4436-d5ab-3033a1155fc3"
      },
      "source": [
        "puc_train[\"first_sdg\"].value_counts()"
      ],
      "execution_count": null,
      "outputs": [
        {
          "output_type": "execute_result",
          "data": {
            "text/plain": [
              "3     430\n",
              "11     73\n",
              "9      66\n",
              "4      65\n",
              "15     60\n",
              "2      35\n",
              "16     30\n",
              "14     29\n",
              "7      25\n",
              "6      24\n",
              "13     23\n",
              "12     18\n",
              "8      16\n",
              "10     14\n",
              "17      8\n",
              "5       4\n",
              "1       3\n",
              "Name: first_sdg, dtype: int64"
            ]
          },
          "metadata": {
            "tags": []
          },
          "execution_count": 5
        }
      ]
    },
    {
      "cell_type": "code",
      "metadata": {
        "id": "7z7s1Xz11rCX"
      },
      "source": [
        "aurora_train = pd.read_json(f\"{ROOT_PATH}/Ordenado/new_train_test_data/aurora_train_70.json\", orient=\"records\")\n",
        "aurora_test = pd.read_json(f\"{ROOT_PATH}/Ordenado/new_train_test_data/aurora_test_30.json\", orient=\"records\")"
      ],
      "execution_count": null,
      "outputs": []
    },
    {
      "cell_type": "code",
      "metadata": {
        "id": "cEE3Wi0-49lO"
      },
      "source": [
        "def calculate_augmentation(max_count: int, current_count: int) -> int:\n",
        "    return (max_count - current_count) // current_count"
      ],
      "execution_count": null,
      "outputs": []
    },
    {
      "cell_type": "code",
      "metadata": {
        "id": "WWRkkloy66OZ",
        "colab": {
          "base_uri": "https://localhost:8080/"
        },
        "outputId": "6d33a347-2a19-4bcc-e691-2ac5461fae9e"
      },
      "source": [
        "AURORA_MAX = aurora_train[\"first_sdg\"].value_counts().max()"
      ],
      "execution_count": null,
      "outputs": [
        {
          "output_type": "execute_result",
          "data": {
            "text/plain": [
              "1185"
            ]
          },
          "metadata": {
            "tags": []
          },
          "execution_count": 8
        }
      ]
    },
    {
      "cell_type": "code",
      "metadata": {
        "id": "ZDBrwR_c5jgY"
      },
      "source": [
        "def augment_abstract(row: pd.Series, current_value_counts: pd.Series) -> List[Dict[str, Union[str, int]]]:\n",
        "    aug = naw.ContextualWordEmbsAug(model_path=\"distilbert-base-cased\", action=\"substitute\")\n",
        "    sdg = row[\"first_sdg\"]\n",
        "    title = row[\"title\"]\n",
        "    current_count = current_value_counts[row[\"first_sdg\"]]\n",
        "    if current_count == AURORA_MAX:\n",
        "        return []\n",
        "    new_samples = calculate_augmentation(AURORA_MAX, current_count)\n",
        "    augmented_samples = aug.augment(row[\"clean_abstract\"], n=new_samples)\n",
        "    augmented_samples = [{\"title\": title, \"first_sdg\": sdg, \"clean_abstract\": sample} for sample in augmented_samples]\n",
        "    return augmented_samples"
      ],
      "execution_count": null,
      "outputs": []
    },
    {
      "cell_type": "code",
      "metadata": {
        "id": "ZWxn2_2u8Hll",
        "colab": {
          "base_uri": "https://localhost:8080/",
          "height": 167,
          "referenced_widgets": [
            "a0c1161b344f4226877f5a195f3241b8",
            "13dc1ed8fbcc4e4e906739707b237f0e",
            "870338b2919e45e8a06389dc0dedad7d",
            "7041f56e0c304b5983cec89c981504ee",
            "3e7954e0ea0b468b992ada5c80614c2b",
            "2a5f313dd97b4ca58fa7c7e3ca1458f8",
            "3337a7ca118b4d369512aba6705bc92b",
            "4ebca9be23554834b38d72be0045d0bf",
            "55e573c7e0b1408fbeb6cf9ac835bcad",
            "9bd13986d3cb499190601ff8adb05511",
            "db3bdcc1c617476aa4d4fd01f5064ea7",
            "5a0d8c819323461bb9c869fb0fa000a0",
            "4421d7f208234f8bb08e98fad7e7efc5",
            "1c052e09af7b44e5a0eab7ab5401f642",
            "f02360408d3049aab855faeeb8c17589",
            "ccc44a1a95594befb3259f338ba200ae",
            "a4bb12d21b164c4394289daa80909fbb",
            "f95c809fb14c4208aa67865eac767071",
            "21d8664c91f04eb3950eca956f6193c7",
            "25dee7dbb4b34aae89ec463e22c4c834",
            "8055908c09ae4d21991ec730630e1bf4",
            "dff522fd0741432982764c7e12930eee",
            "e1abe429b4f846e09e2d2c1616592a83",
            "62b547f858f54695ac737383129313de"
          ]
        },
        "outputId": "43d34db3-4568-439a-ccfa-412362ba27ea"
      },
      "source": [
        "puc_value_counts = puc_train[\"first_sdg\"].value_counts()\n",
        "puc_train[\"augmented\"] = puc_train.apply(lambda row: augment_abstract(row, puc_value_counts), axis=1)"
      ],
      "execution_count": null,
      "outputs": [
        {
          "output_type": "display_data",
          "data": {
            "application/vnd.jupyter.widget-view+json": {
              "model_id": "a0c1161b344f4226877f5a195f3241b8",
              "version_minor": 0,
              "version_major": 2
            },
            "text/plain": [
              "HBox(children=(FloatProgress(value=0.0, description='Downloading', max=411.0, style=ProgressStyle(description_…"
            ]
          },
          "metadata": {
            "tags": []
          }
        },
        {
          "output_type": "stream",
          "text": [
            "\n"
          ],
          "name": "stdout"
        },
        {
          "output_type": "display_data",
          "data": {
            "application/vnd.jupyter.widget-view+json": {
              "model_id": "55e573c7e0b1408fbeb6cf9ac835bcad",
              "version_minor": 0,
              "version_major": 2
            },
            "text/plain": [
              "HBox(children=(FloatProgress(value=0.0, description='Downloading', max=213450.0, style=ProgressStyle(descripti…"
            ]
          },
          "metadata": {
            "tags": []
          }
        },
        {
          "output_type": "stream",
          "text": [
            "\n"
          ],
          "name": "stdout"
        },
        {
          "output_type": "display_data",
          "data": {
            "application/vnd.jupyter.widget-view+json": {
              "model_id": "a4bb12d21b164c4394289daa80909fbb",
              "version_minor": 0,
              "version_major": 2
            },
            "text/plain": [
              "HBox(children=(FloatProgress(value=0.0, description='Downloading', max=263273408.0, style=ProgressStyle(descri…"
            ]
          },
          "metadata": {
            "tags": []
          }
        },
        {
          "output_type": "stream",
          "text": [
            "\n"
          ],
          "name": "stdout"
        }
      ]
    },
    {
      "cell_type": "code",
      "metadata": {
        "id": "WsqP7x9kwh1W"
      },
      "source": [
        "augmented_flat = list(itertools.chain(*puc_train[\"augmented\"].tolist()))\n",
        "augmented = pd.DataFrame(augmented_flat)"
      ],
      "execution_count": null,
      "outputs": []
    },
    {
      "cell_type": "markdown",
      "metadata": {
        "id": "la21lXymfH3l"
      },
      "source": [
        "The cell below correct a bug I don't catch yet, which creates an insane amount of copies of the SDG 3, when it should create just one of each abstract of that SDG."
      ]
    },
    {
      "cell_type": "code",
      "metadata": {
        "id": "gWaYJLzjd7fB",
        "colab": {
          "base_uri": "https://localhost:8080/"
        },
        "outputId": "24bd23fa-8e5d-46e3-8ccd-9e761ae57d55"
      },
      "source": [
        "augmented_sdg_3 = augmented[augmented[\"first_sdg\"] == 3]\n",
        "augmented_sdg_3.drop_duplicates(\"title\", keep=\"first\", inplace=True)\n",
        "augmented_final = augmented[augmented[\"first_sdg\"] != 3]\n",
        "augmented_final = pd.concat([augmented_final, augmented_sdg_3])"
      ],
      "execution_count": null,
      "outputs": [
        {
          "output_type": "stream",
          "text": [
            "/usr/local/lib/python3.6/dist-packages/ipykernel_launcher.py:2: SettingWithCopyWarning: \n",
            "A value is trying to be set on a copy of a slice from a DataFrame\n",
            "\n",
            "See the caveats in the documentation: https://pandas.pydata.org/pandas-docs/stable/user_guide/indexing.html#returning-a-view-versus-a-copy\n",
            "  \n"
          ],
          "name": "stderr"
        }
      ]
    },
    {
      "cell_type": "code",
      "metadata": {
        "id": "bVYmLwECwW-h"
      },
      "source": [
        "del puc_train[\"augmented\"]\n",
        "puc_train = pd.concat([puc_train, augmented_final], ignore_index=True)"
      ],
      "execution_count": null,
      "outputs": []
    },
    {
      "cell_type": "code",
      "metadata": {
        "id": "95qwQuZ3O9Es",
        "colab": {
          "base_uri": "https://localhost:8080/"
        },
        "outputId": "02e1251c-c151-4eb6-9662-64ee9ce372ee"
      },
      "source": [
        "puc_train[\"first_sdg\"].value_counts()"
      ],
      "execution_count": null,
      "outputs": [
        {
          "output_type": "execute_result",
          "data": {
            "text/plain": [
              "1     1185\n",
              "17    1184\n",
              "8     1184\n",
              "5     1184\n",
              "6     1176\n",
              "10    1176\n",
              "7     1175\n",
              "13    1173\n",
              "4     1170\n",
              "16    1170\n",
              "12    1170\n",
              "11    1168\n",
              "14    1160\n",
              "2     1155\n",
              "15    1140\n",
              "9     1122\n",
              "3      860\n",
              "Name: first_sdg, dtype: int64"
            ]
          },
          "metadata": {
            "tags": []
          },
          "execution_count": 14
        }
      ]
    },
    {
      "cell_type": "code",
      "metadata": {
        "id": "jT_pQDk9wlTI"
      },
      "source": [
        "puc_train.to_json(f\"{ROOT_PATH}/Ordenado/augmented_with_aurora/2020-09-12_puc_augmented.json\", orient=\"records\")"
      ],
      "execution_count": null,
      "outputs": []
    },
    {
      "cell_type": "code",
      "metadata": {
        "id": "5oyCf7mU5FMJ",
        "colab": {
          "base_uri": "https://localhost:8080/"
        },
        "outputId": "1126fb05-517e-4c5c-8e4a-6a651d526532"
      },
      "source": [
        "len(puc_train)"
      ],
      "execution_count": null,
      "outputs": [
        {
          "output_type": "execute_result",
          "data": {
            "text/plain": [
              "19552"
            ]
          },
          "metadata": {
            "tags": []
          },
          "execution_count": 16
        }
      ]
    },
    {
      "cell_type": "code",
      "metadata": {
        "id": "Bc2nD-4Yyi9t"
      },
      "source": [
        ""
      ],
      "execution_count": null,
      "outputs": []
    }
  ]
}