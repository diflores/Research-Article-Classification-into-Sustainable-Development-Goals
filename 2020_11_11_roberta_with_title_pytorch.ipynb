{
  "nbformat": 4,
  "nbformat_minor": 0,
  "metadata": {
    "colab": {
      "name": "2020-11-11_roberta_with_title_pytorch.ipynb",
      "provenance": [],
      "collapsed_sections": [],
      "machine_shape": "hm"
    },
    "kernelspec": {
      "name": "python3",
      "display_name": "Python 3"
    },
    "accelerator": "GPU",
    "widgets": {
      "application/vnd.jupyter.widget-state+json": {
        "9f08591e031847d58d16cd60acfc14c1": {
          "model_module": "@jupyter-widgets/controls",
          "model_name": "HBoxModel",
          "state": {
            "_view_name": "HBoxView",
            "_dom_classes": [],
            "_model_name": "HBoxModel",
            "_view_module": "@jupyter-widgets/controls",
            "_model_module_version": "1.5.0",
            "_view_count": null,
            "_view_module_version": "1.5.0",
            "box_style": "",
            "layout": "IPY_MODEL_a5844582457b4a09ba89518c99b3e6ec",
            "_model_module": "@jupyter-widgets/controls",
            "children": [
              "IPY_MODEL_5de0a4d4578541cc85cc51576e6ed1eb",
              "IPY_MODEL_baa394764c0b4bd5bd47a2ecb40749a8"
            ]
          }
        },
        "a5844582457b4a09ba89518c99b3e6ec": {
          "model_module": "@jupyter-widgets/base",
          "model_name": "LayoutModel",
          "state": {
            "_view_name": "LayoutView",
            "grid_template_rows": null,
            "right": null,
            "justify_content": null,
            "_view_module": "@jupyter-widgets/base",
            "overflow": null,
            "_model_module_version": "1.2.0",
            "_view_count": null,
            "flex_flow": null,
            "width": null,
            "min_width": null,
            "border": null,
            "align_items": null,
            "bottom": null,
            "_model_module": "@jupyter-widgets/base",
            "top": null,
            "grid_column": null,
            "overflow_y": null,
            "overflow_x": null,
            "grid_auto_flow": null,
            "grid_area": null,
            "grid_template_columns": null,
            "flex": null,
            "_model_name": "LayoutModel",
            "justify_items": null,
            "grid_row": null,
            "max_height": null,
            "align_content": null,
            "visibility": null,
            "align_self": null,
            "height": null,
            "min_height": null,
            "padding": null,
            "grid_auto_rows": null,
            "grid_gap": null,
            "max_width": null,
            "order": null,
            "_view_module_version": "1.2.0",
            "grid_template_areas": null,
            "object_position": null,
            "object_fit": null,
            "grid_auto_columns": null,
            "margin": null,
            "display": null,
            "left": null
          }
        },
        "5de0a4d4578541cc85cc51576e6ed1eb": {
          "model_module": "@jupyter-widgets/controls",
          "model_name": "FloatProgressModel",
          "state": {
            "_view_name": "ProgressView",
            "style": "IPY_MODEL_4eb9a6395698459282954d4a83b124cf",
            "_dom_classes": [],
            "description": "Downloading: 100%",
            "_model_name": "FloatProgressModel",
            "bar_style": "success",
            "max": 898823,
            "_view_module": "@jupyter-widgets/controls",
            "_model_module_version": "1.5.0",
            "value": 898823,
            "_view_count": null,
            "_view_module_version": "1.5.0",
            "orientation": "horizontal",
            "min": 0,
            "description_tooltip": null,
            "_model_module": "@jupyter-widgets/controls",
            "layout": "IPY_MODEL_818453718ea049f5b34a767f1f89d0bb"
          }
        },
        "baa394764c0b4bd5bd47a2ecb40749a8": {
          "model_module": "@jupyter-widgets/controls",
          "model_name": "HTMLModel",
          "state": {
            "_view_name": "HTMLView",
            "style": "IPY_MODEL_13fc6665b82c431db20e7fff11098c2d",
            "_dom_classes": [],
            "description": "",
            "_model_name": "HTMLModel",
            "placeholder": "​",
            "_view_module": "@jupyter-widgets/controls",
            "_model_module_version": "1.5.0",
            "value": " 899k/899k [00:01&lt;00:00, 488kB/s]",
            "_view_count": null,
            "_view_module_version": "1.5.0",
            "description_tooltip": null,
            "_model_module": "@jupyter-widgets/controls",
            "layout": "IPY_MODEL_b693b31f1f7b44c8ab4a47cc483b5d40"
          }
        },
        "4eb9a6395698459282954d4a83b124cf": {
          "model_module": "@jupyter-widgets/controls",
          "model_name": "ProgressStyleModel",
          "state": {
            "_view_name": "StyleView",
            "_model_name": "ProgressStyleModel",
            "description_width": "initial",
            "_view_module": "@jupyter-widgets/base",
            "_model_module_version": "1.5.0",
            "_view_count": null,
            "_view_module_version": "1.2.0",
            "bar_color": null,
            "_model_module": "@jupyter-widgets/controls"
          }
        },
        "818453718ea049f5b34a767f1f89d0bb": {
          "model_module": "@jupyter-widgets/base",
          "model_name": "LayoutModel",
          "state": {
            "_view_name": "LayoutView",
            "grid_template_rows": null,
            "right": null,
            "justify_content": null,
            "_view_module": "@jupyter-widgets/base",
            "overflow": null,
            "_model_module_version": "1.2.0",
            "_view_count": null,
            "flex_flow": null,
            "width": null,
            "min_width": null,
            "border": null,
            "align_items": null,
            "bottom": null,
            "_model_module": "@jupyter-widgets/base",
            "top": null,
            "grid_column": null,
            "overflow_y": null,
            "overflow_x": null,
            "grid_auto_flow": null,
            "grid_area": null,
            "grid_template_columns": null,
            "flex": null,
            "_model_name": "LayoutModel",
            "justify_items": null,
            "grid_row": null,
            "max_height": null,
            "align_content": null,
            "visibility": null,
            "align_self": null,
            "height": null,
            "min_height": null,
            "padding": null,
            "grid_auto_rows": null,
            "grid_gap": null,
            "max_width": null,
            "order": null,
            "_view_module_version": "1.2.0",
            "grid_template_areas": null,
            "object_position": null,
            "object_fit": null,
            "grid_auto_columns": null,
            "margin": null,
            "display": null,
            "left": null
          }
        },
        "13fc6665b82c431db20e7fff11098c2d": {
          "model_module": "@jupyter-widgets/controls",
          "model_name": "DescriptionStyleModel",
          "state": {
            "_view_name": "StyleView",
            "_model_name": "DescriptionStyleModel",
            "description_width": "",
            "_view_module": "@jupyter-widgets/base",
            "_model_module_version": "1.5.0",
            "_view_count": null,
            "_view_module_version": "1.2.0",
            "_model_module": "@jupyter-widgets/controls"
          }
        },
        "b693b31f1f7b44c8ab4a47cc483b5d40": {
          "model_module": "@jupyter-widgets/base",
          "model_name": "LayoutModel",
          "state": {
            "_view_name": "LayoutView",
            "grid_template_rows": null,
            "right": null,
            "justify_content": null,
            "_view_module": "@jupyter-widgets/base",
            "overflow": null,
            "_model_module_version": "1.2.0",
            "_view_count": null,
            "flex_flow": null,
            "width": null,
            "min_width": null,
            "border": null,
            "align_items": null,
            "bottom": null,
            "_model_module": "@jupyter-widgets/base",
            "top": null,
            "grid_column": null,
            "overflow_y": null,
            "overflow_x": null,
            "grid_auto_flow": null,
            "grid_area": null,
            "grid_template_columns": null,
            "flex": null,
            "_model_name": "LayoutModel",
            "justify_items": null,
            "grid_row": null,
            "max_height": null,
            "align_content": null,
            "visibility": null,
            "align_self": null,
            "height": null,
            "min_height": null,
            "padding": null,
            "grid_auto_rows": null,
            "grid_gap": null,
            "max_width": null,
            "order": null,
            "_view_module_version": "1.2.0",
            "grid_template_areas": null,
            "object_position": null,
            "object_fit": null,
            "grid_auto_columns": null,
            "margin": null,
            "display": null,
            "left": null
          }
        },
        "dd7294442c2a4348b509bc78b518b4b1": {
          "model_module": "@jupyter-widgets/controls",
          "model_name": "HBoxModel",
          "state": {
            "_view_name": "HBoxView",
            "_dom_classes": [],
            "_model_name": "HBoxModel",
            "_view_module": "@jupyter-widgets/controls",
            "_model_module_version": "1.5.0",
            "_view_count": null,
            "_view_module_version": "1.5.0",
            "box_style": "",
            "layout": "IPY_MODEL_371b2e68375f4fb18f7449a57e3a6948",
            "_model_module": "@jupyter-widgets/controls",
            "children": [
              "IPY_MODEL_53a03bb87f304cac97aa0998c0d7f3c0",
              "IPY_MODEL_396e63f9304a4239864a61ff39771ebb"
            ]
          }
        },
        "371b2e68375f4fb18f7449a57e3a6948": {
          "model_module": "@jupyter-widgets/base",
          "model_name": "LayoutModel",
          "state": {
            "_view_name": "LayoutView",
            "grid_template_rows": null,
            "right": null,
            "justify_content": null,
            "_view_module": "@jupyter-widgets/base",
            "overflow": null,
            "_model_module_version": "1.2.0",
            "_view_count": null,
            "flex_flow": null,
            "width": null,
            "min_width": null,
            "border": null,
            "align_items": null,
            "bottom": null,
            "_model_module": "@jupyter-widgets/base",
            "top": null,
            "grid_column": null,
            "overflow_y": null,
            "overflow_x": null,
            "grid_auto_flow": null,
            "grid_area": null,
            "grid_template_columns": null,
            "flex": null,
            "_model_name": "LayoutModel",
            "justify_items": null,
            "grid_row": null,
            "max_height": null,
            "align_content": null,
            "visibility": null,
            "align_self": null,
            "height": null,
            "min_height": null,
            "padding": null,
            "grid_auto_rows": null,
            "grid_gap": null,
            "max_width": null,
            "order": null,
            "_view_module_version": "1.2.0",
            "grid_template_areas": null,
            "object_position": null,
            "object_fit": null,
            "grid_auto_columns": null,
            "margin": null,
            "display": null,
            "left": null
          }
        },
        "53a03bb87f304cac97aa0998c0d7f3c0": {
          "model_module": "@jupyter-widgets/controls",
          "model_name": "FloatProgressModel",
          "state": {
            "_view_name": "ProgressView",
            "style": "IPY_MODEL_8413dbe137ba44c2aab557eaf89ff18b",
            "_dom_classes": [],
            "description": "Downloading: 100%",
            "_model_name": "FloatProgressModel",
            "bar_style": "success",
            "max": 456318,
            "_view_module": "@jupyter-widgets/controls",
            "_model_module_version": "1.5.0",
            "value": 456318,
            "_view_count": null,
            "_view_module_version": "1.5.0",
            "orientation": "horizontal",
            "min": 0,
            "description_tooltip": null,
            "_model_module": "@jupyter-widgets/controls",
            "layout": "IPY_MODEL_d740ae6c1eb14eb8af66469f06fc0745"
          }
        },
        "396e63f9304a4239864a61ff39771ebb": {
          "model_module": "@jupyter-widgets/controls",
          "model_name": "HTMLModel",
          "state": {
            "_view_name": "HTMLView",
            "style": "IPY_MODEL_0c930046c4b74c4c8b5b5edf892d2141",
            "_dom_classes": [],
            "description": "",
            "_model_name": "HTMLModel",
            "placeholder": "​",
            "_view_module": "@jupyter-widgets/controls",
            "_model_module_version": "1.5.0",
            "value": " 456k/456k [00:00&lt;00:00, 905kB/s]",
            "_view_count": null,
            "_view_module_version": "1.5.0",
            "description_tooltip": null,
            "_model_module": "@jupyter-widgets/controls",
            "layout": "IPY_MODEL_742104cb82d94402b5edc23962e79687"
          }
        },
        "8413dbe137ba44c2aab557eaf89ff18b": {
          "model_module": "@jupyter-widgets/controls",
          "model_name": "ProgressStyleModel",
          "state": {
            "_view_name": "StyleView",
            "_model_name": "ProgressStyleModel",
            "description_width": "initial",
            "_view_module": "@jupyter-widgets/base",
            "_model_module_version": "1.5.0",
            "_view_count": null,
            "_view_module_version": "1.2.0",
            "bar_color": null,
            "_model_module": "@jupyter-widgets/controls"
          }
        },
        "d740ae6c1eb14eb8af66469f06fc0745": {
          "model_module": "@jupyter-widgets/base",
          "model_name": "LayoutModel",
          "state": {
            "_view_name": "LayoutView",
            "grid_template_rows": null,
            "right": null,
            "justify_content": null,
            "_view_module": "@jupyter-widgets/base",
            "overflow": null,
            "_model_module_version": "1.2.0",
            "_view_count": null,
            "flex_flow": null,
            "width": null,
            "min_width": null,
            "border": null,
            "align_items": null,
            "bottom": null,
            "_model_module": "@jupyter-widgets/base",
            "top": null,
            "grid_column": null,
            "overflow_y": null,
            "overflow_x": null,
            "grid_auto_flow": null,
            "grid_area": null,
            "grid_template_columns": null,
            "flex": null,
            "_model_name": "LayoutModel",
            "justify_items": null,
            "grid_row": null,
            "max_height": null,
            "align_content": null,
            "visibility": null,
            "align_self": null,
            "height": null,
            "min_height": null,
            "padding": null,
            "grid_auto_rows": null,
            "grid_gap": null,
            "max_width": null,
            "order": null,
            "_view_module_version": "1.2.0",
            "grid_template_areas": null,
            "object_position": null,
            "object_fit": null,
            "grid_auto_columns": null,
            "margin": null,
            "display": null,
            "left": null
          }
        },
        "0c930046c4b74c4c8b5b5edf892d2141": {
          "model_module": "@jupyter-widgets/controls",
          "model_name": "DescriptionStyleModel",
          "state": {
            "_view_name": "StyleView",
            "_model_name": "DescriptionStyleModel",
            "description_width": "",
            "_view_module": "@jupyter-widgets/base",
            "_model_module_version": "1.5.0",
            "_view_count": null,
            "_view_module_version": "1.2.0",
            "_model_module": "@jupyter-widgets/controls"
          }
        },
        "742104cb82d94402b5edc23962e79687": {
          "model_module": "@jupyter-widgets/base",
          "model_name": "LayoutModel",
          "state": {
            "_view_name": "LayoutView",
            "grid_template_rows": null,
            "right": null,
            "justify_content": null,
            "_view_module": "@jupyter-widgets/base",
            "overflow": null,
            "_model_module_version": "1.2.0",
            "_view_count": null,
            "flex_flow": null,
            "width": null,
            "min_width": null,
            "border": null,
            "align_items": null,
            "bottom": null,
            "_model_module": "@jupyter-widgets/base",
            "top": null,
            "grid_column": null,
            "overflow_y": null,
            "overflow_x": null,
            "grid_auto_flow": null,
            "grid_area": null,
            "grid_template_columns": null,
            "flex": null,
            "_model_name": "LayoutModel",
            "justify_items": null,
            "grid_row": null,
            "max_height": null,
            "align_content": null,
            "visibility": null,
            "align_self": null,
            "height": null,
            "min_height": null,
            "padding": null,
            "grid_auto_rows": null,
            "grid_gap": null,
            "max_width": null,
            "order": null,
            "_view_module_version": "1.2.0",
            "grid_template_areas": null,
            "object_position": null,
            "object_fit": null,
            "grid_auto_columns": null,
            "margin": null,
            "display": null,
            "left": null
          }
        },
        "117317b5a5304878a4d73e76b8c40deb": {
          "model_module": "@jupyter-widgets/controls",
          "model_name": "HBoxModel",
          "state": {
            "_view_name": "HBoxView",
            "_dom_classes": [],
            "_model_name": "HBoxModel",
            "_view_module": "@jupyter-widgets/controls",
            "_model_module_version": "1.5.0",
            "_view_count": null,
            "_view_module_version": "1.5.0",
            "box_style": "",
            "layout": "IPY_MODEL_b1706c6c2fe1475682a1ed30dfbdc710",
            "_model_module": "@jupyter-widgets/controls",
            "children": [
              "IPY_MODEL_fb0aed5f57db4f19ad2699041fc9df3c",
              "IPY_MODEL_78adbd9826444dbfabeac72f2e0c88f4"
            ]
          }
        },
        "b1706c6c2fe1475682a1ed30dfbdc710": {
          "model_module": "@jupyter-widgets/base",
          "model_name": "LayoutModel",
          "state": {
            "_view_name": "LayoutView",
            "grid_template_rows": null,
            "right": null,
            "justify_content": null,
            "_view_module": "@jupyter-widgets/base",
            "overflow": null,
            "_model_module_version": "1.2.0",
            "_view_count": null,
            "flex_flow": null,
            "width": null,
            "min_width": null,
            "border": null,
            "align_items": null,
            "bottom": null,
            "_model_module": "@jupyter-widgets/base",
            "top": null,
            "grid_column": null,
            "overflow_y": null,
            "overflow_x": null,
            "grid_auto_flow": null,
            "grid_area": null,
            "grid_template_columns": null,
            "flex": null,
            "_model_name": "LayoutModel",
            "justify_items": null,
            "grid_row": null,
            "max_height": null,
            "align_content": null,
            "visibility": null,
            "align_self": null,
            "height": null,
            "min_height": null,
            "padding": null,
            "grid_auto_rows": null,
            "grid_gap": null,
            "max_width": null,
            "order": null,
            "_view_module_version": "1.2.0",
            "grid_template_areas": null,
            "object_position": null,
            "object_fit": null,
            "grid_auto_columns": null,
            "margin": null,
            "display": null,
            "left": null
          }
        },
        "fb0aed5f57db4f19ad2699041fc9df3c": {
          "model_module": "@jupyter-widgets/controls",
          "model_name": "FloatProgressModel",
          "state": {
            "_view_name": "ProgressView",
            "style": "IPY_MODEL_fc56883ddf194aad9d9537ea8d2af320",
            "_dom_classes": [],
            "description": "Downloading: 100%",
            "_model_name": "FloatProgressModel",
            "bar_style": "success",
            "max": 481,
            "_view_module": "@jupyter-widgets/controls",
            "_model_module_version": "1.5.0",
            "value": 481,
            "_view_count": null,
            "_view_module_version": "1.5.0",
            "orientation": "horizontal",
            "min": 0,
            "description_tooltip": null,
            "_model_module": "@jupyter-widgets/controls",
            "layout": "IPY_MODEL_0ee46404531142fd93ce4b4f03b713a7"
          }
        },
        "78adbd9826444dbfabeac72f2e0c88f4": {
          "model_module": "@jupyter-widgets/controls",
          "model_name": "HTMLModel",
          "state": {
            "_view_name": "HTMLView",
            "style": "IPY_MODEL_a46ca37723ef4a8789b50001072f4be4",
            "_dom_classes": [],
            "description": "",
            "_model_name": "HTMLModel",
            "placeholder": "​",
            "_view_module": "@jupyter-widgets/controls",
            "_model_module_version": "1.5.0",
            "value": " 481/481 [00:00&lt;00:00, 965B/s]",
            "_view_count": null,
            "_view_module_version": "1.5.0",
            "description_tooltip": null,
            "_model_module": "@jupyter-widgets/controls",
            "layout": "IPY_MODEL_07a4161cfc584df199fef6b5bf3990b0"
          }
        },
        "fc56883ddf194aad9d9537ea8d2af320": {
          "model_module": "@jupyter-widgets/controls",
          "model_name": "ProgressStyleModel",
          "state": {
            "_view_name": "StyleView",
            "_model_name": "ProgressStyleModel",
            "description_width": "initial",
            "_view_module": "@jupyter-widgets/base",
            "_model_module_version": "1.5.0",
            "_view_count": null,
            "_view_module_version": "1.2.0",
            "bar_color": null,
            "_model_module": "@jupyter-widgets/controls"
          }
        },
        "0ee46404531142fd93ce4b4f03b713a7": {
          "model_module": "@jupyter-widgets/base",
          "model_name": "LayoutModel",
          "state": {
            "_view_name": "LayoutView",
            "grid_template_rows": null,
            "right": null,
            "justify_content": null,
            "_view_module": "@jupyter-widgets/base",
            "overflow": null,
            "_model_module_version": "1.2.0",
            "_view_count": null,
            "flex_flow": null,
            "width": null,
            "min_width": null,
            "border": null,
            "align_items": null,
            "bottom": null,
            "_model_module": "@jupyter-widgets/base",
            "top": null,
            "grid_column": null,
            "overflow_y": null,
            "overflow_x": null,
            "grid_auto_flow": null,
            "grid_area": null,
            "grid_template_columns": null,
            "flex": null,
            "_model_name": "LayoutModel",
            "justify_items": null,
            "grid_row": null,
            "max_height": null,
            "align_content": null,
            "visibility": null,
            "align_self": null,
            "height": null,
            "min_height": null,
            "padding": null,
            "grid_auto_rows": null,
            "grid_gap": null,
            "max_width": null,
            "order": null,
            "_view_module_version": "1.2.0",
            "grid_template_areas": null,
            "object_position": null,
            "object_fit": null,
            "grid_auto_columns": null,
            "margin": null,
            "display": null,
            "left": null
          }
        },
        "a46ca37723ef4a8789b50001072f4be4": {
          "model_module": "@jupyter-widgets/controls",
          "model_name": "DescriptionStyleModel",
          "state": {
            "_view_name": "StyleView",
            "_model_name": "DescriptionStyleModel",
            "description_width": "",
            "_view_module": "@jupyter-widgets/base",
            "_model_module_version": "1.5.0",
            "_view_count": null,
            "_view_module_version": "1.2.0",
            "_model_module": "@jupyter-widgets/controls"
          }
        },
        "07a4161cfc584df199fef6b5bf3990b0": {
          "model_module": "@jupyter-widgets/base",
          "model_name": "LayoutModel",
          "state": {
            "_view_name": "LayoutView",
            "grid_template_rows": null,
            "right": null,
            "justify_content": null,
            "_view_module": "@jupyter-widgets/base",
            "overflow": null,
            "_model_module_version": "1.2.0",
            "_view_count": null,
            "flex_flow": null,
            "width": null,
            "min_width": null,
            "border": null,
            "align_items": null,
            "bottom": null,
            "_model_module": "@jupyter-widgets/base",
            "top": null,
            "grid_column": null,
            "overflow_y": null,
            "overflow_x": null,
            "grid_auto_flow": null,
            "grid_area": null,
            "grid_template_columns": null,
            "flex": null,
            "_model_name": "LayoutModel",
            "justify_items": null,
            "grid_row": null,
            "max_height": null,
            "align_content": null,
            "visibility": null,
            "align_self": null,
            "height": null,
            "min_height": null,
            "padding": null,
            "grid_auto_rows": null,
            "grid_gap": null,
            "max_width": null,
            "order": null,
            "_view_module_version": "1.2.0",
            "grid_template_areas": null,
            "object_position": null,
            "object_fit": null,
            "grid_auto_columns": null,
            "margin": null,
            "display": null,
            "left": null
          }
        },
        "b3e4144bdb8b4780805176b35ceddab4": {
          "model_module": "@jupyter-widgets/controls",
          "model_name": "HBoxModel",
          "state": {
            "_view_name": "HBoxView",
            "_dom_classes": [],
            "_model_name": "HBoxModel",
            "_view_module": "@jupyter-widgets/controls",
            "_model_module_version": "1.5.0",
            "_view_count": null,
            "_view_module_version": "1.5.0",
            "box_style": "",
            "layout": "IPY_MODEL_075e96090b024d4b96dd2e6c2a9be71f",
            "_model_module": "@jupyter-widgets/controls",
            "children": [
              "IPY_MODEL_e8e674db1c1245749917a5a2632a5d47",
              "IPY_MODEL_18f489f548ff40c58a8ecc9657a4fa08"
            ]
          }
        },
        "075e96090b024d4b96dd2e6c2a9be71f": {
          "model_module": "@jupyter-widgets/base",
          "model_name": "LayoutModel",
          "state": {
            "_view_name": "LayoutView",
            "grid_template_rows": null,
            "right": null,
            "justify_content": null,
            "_view_module": "@jupyter-widgets/base",
            "overflow": null,
            "_model_module_version": "1.2.0",
            "_view_count": null,
            "flex_flow": null,
            "width": null,
            "min_width": null,
            "border": null,
            "align_items": null,
            "bottom": null,
            "_model_module": "@jupyter-widgets/base",
            "top": null,
            "grid_column": null,
            "overflow_y": null,
            "overflow_x": null,
            "grid_auto_flow": null,
            "grid_area": null,
            "grid_template_columns": null,
            "flex": null,
            "_model_name": "LayoutModel",
            "justify_items": null,
            "grid_row": null,
            "max_height": null,
            "align_content": null,
            "visibility": null,
            "align_self": null,
            "height": null,
            "min_height": null,
            "padding": null,
            "grid_auto_rows": null,
            "grid_gap": null,
            "max_width": null,
            "order": null,
            "_view_module_version": "1.2.0",
            "grid_template_areas": null,
            "object_position": null,
            "object_fit": null,
            "grid_auto_columns": null,
            "margin": null,
            "display": null,
            "left": null
          }
        },
        "e8e674db1c1245749917a5a2632a5d47": {
          "model_module": "@jupyter-widgets/controls",
          "model_name": "FloatProgressModel",
          "state": {
            "_view_name": "ProgressView",
            "style": "IPY_MODEL_300e97d5742e40c48eab0440857b875f",
            "_dom_classes": [],
            "description": "Downloading: 100%",
            "_model_name": "FloatProgressModel",
            "bar_style": "success",
            "max": 501200538,
            "_view_module": "@jupyter-widgets/controls",
            "_model_module_version": "1.5.0",
            "value": 501200538,
            "_view_count": null,
            "_view_module_version": "1.5.0",
            "orientation": "horizontal",
            "min": 0,
            "description_tooltip": null,
            "_model_module": "@jupyter-widgets/controls",
            "layout": "IPY_MODEL_e3bfda3c71644f1ba28613276e20fa5d"
          }
        },
        "18f489f548ff40c58a8ecc9657a4fa08": {
          "model_module": "@jupyter-widgets/controls",
          "model_name": "HTMLModel",
          "state": {
            "_view_name": "HTMLView",
            "style": "IPY_MODEL_57a6c44c259b451697853dc9622fcaab",
            "_dom_classes": [],
            "description": "",
            "_model_name": "HTMLModel",
            "placeholder": "​",
            "_view_module": "@jupyter-widgets/controls",
            "_model_module_version": "1.5.0",
            "value": " 501M/501M [00:39&lt;00:00, 12.8MB/s]",
            "_view_count": null,
            "_view_module_version": "1.5.0",
            "description_tooltip": null,
            "_model_module": "@jupyter-widgets/controls",
            "layout": "IPY_MODEL_cf77e7e3f0874a8d83fa91464c3eae0b"
          }
        },
        "300e97d5742e40c48eab0440857b875f": {
          "model_module": "@jupyter-widgets/controls",
          "model_name": "ProgressStyleModel",
          "state": {
            "_view_name": "StyleView",
            "_model_name": "ProgressStyleModel",
            "description_width": "initial",
            "_view_module": "@jupyter-widgets/base",
            "_model_module_version": "1.5.0",
            "_view_count": null,
            "_view_module_version": "1.2.0",
            "bar_color": null,
            "_model_module": "@jupyter-widgets/controls"
          }
        },
        "e3bfda3c71644f1ba28613276e20fa5d": {
          "model_module": "@jupyter-widgets/base",
          "model_name": "LayoutModel",
          "state": {
            "_view_name": "LayoutView",
            "grid_template_rows": null,
            "right": null,
            "justify_content": null,
            "_view_module": "@jupyter-widgets/base",
            "overflow": null,
            "_model_module_version": "1.2.0",
            "_view_count": null,
            "flex_flow": null,
            "width": null,
            "min_width": null,
            "border": null,
            "align_items": null,
            "bottom": null,
            "_model_module": "@jupyter-widgets/base",
            "top": null,
            "grid_column": null,
            "overflow_y": null,
            "overflow_x": null,
            "grid_auto_flow": null,
            "grid_area": null,
            "grid_template_columns": null,
            "flex": null,
            "_model_name": "LayoutModel",
            "justify_items": null,
            "grid_row": null,
            "max_height": null,
            "align_content": null,
            "visibility": null,
            "align_self": null,
            "height": null,
            "min_height": null,
            "padding": null,
            "grid_auto_rows": null,
            "grid_gap": null,
            "max_width": null,
            "order": null,
            "_view_module_version": "1.2.0",
            "grid_template_areas": null,
            "object_position": null,
            "object_fit": null,
            "grid_auto_columns": null,
            "margin": null,
            "display": null,
            "left": null
          }
        },
        "57a6c44c259b451697853dc9622fcaab": {
          "model_module": "@jupyter-widgets/controls",
          "model_name": "DescriptionStyleModel",
          "state": {
            "_view_name": "StyleView",
            "_model_name": "DescriptionStyleModel",
            "description_width": "",
            "_view_module": "@jupyter-widgets/base",
            "_model_module_version": "1.5.0",
            "_view_count": null,
            "_view_module_version": "1.2.0",
            "_model_module": "@jupyter-widgets/controls"
          }
        },
        "cf77e7e3f0874a8d83fa91464c3eae0b": {
          "model_module": "@jupyter-widgets/base",
          "model_name": "LayoutModel",
          "state": {
            "_view_name": "LayoutView",
            "grid_template_rows": null,
            "right": null,
            "justify_content": null,
            "_view_module": "@jupyter-widgets/base",
            "overflow": null,
            "_model_module_version": "1.2.0",
            "_view_count": null,
            "flex_flow": null,
            "width": null,
            "min_width": null,
            "border": null,
            "align_items": null,
            "bottom": null,
            "_model_module": "@jupyter-widgets/base",
            "top": null,
            "grid_column": null,
            "overflow_y": null,
            "overflow_x": null,
            "grid_auto_flow": null,
            "grid_area": null,
            "grid_template_columns": null,
            "flex": null,
            "_model_name": "LayoutModel",
            "justify_items": null,
            "grid_row": null,
            "max_height": null,
            "align_content": null,
            "visibility": null,
            "align_self": null,
            "height": null,
            "min_height": null,
            "padding": null,
            "grid_auto_rows": null,
            "grid_gap": null,
            "max_width": null,
            "order": null,
            "_view_module_version": "1.2.0",
            "grid_template_areas": null,
            "object_position": null,
            "object_fit": null,
            "grid_auto_columns": null,
            "margin": null,
            "display": null,
            "left": null
          }
        }
      }
    }
  },
  "cells": [
    {
      "cell_type": "code",
      "metadata": {
        "id": "GeNRPJUIcsMG",
        "colab": {
          "base_uri": "https://localhost:8080/"
        },
        "outputId": "ceb91aa7-5d75-48a6-c069-3cb5e054b73c"
      },
      "source": [
        "!pip install transformers"
      ],
      "execution_count": null,
      "outputs": [
        {
          "output_type": "stream",
          "text": [
            "Collecting transformers\n",
            "\u001b[?25l  Downloading https://files.pythonhosted.org/packages/9c/34/fb092588df61bf33f113ade030d1cbe74fb73a0353648f8dd938a223dce7/transformers-3.5.0-py3-none-any.whl (1.3MB)\n",
            "\u001b[K     |████████████████████████████████| 1.3MB 4.1MB/s \n",
            "\u001b[?25hCollecting tokenizers==0.9.3\n",
            "\u001b[?25l  Downloading https://files.pythonhosted.org/packages/4c/34/b39eb9994bc3c999270b69c9eea40ecc6f0e97991dba28282b9fd32d44ee/tokenizers-0.9.3-cp36-cp36m-manylinux1_x86_64.whl (2.9MB)\n",
            "\u001b[K     |████████████████████████████████| 2.9MB 43.5MB/s \n",
            "\u001b[?25hCollecting sentencepiece==0.1.91\n",
            "\u001b[?25l  Downloading https://files.pythonhosted.org/packages/d4/a4/d0a884c4300004a78cca907a6ff9a5e9fe4f090f5d95ab341c53d28cbc58/sentencepiece-0.1.91-cp36-cp36m-manylinux1_x86_64.whl (1.1MB)\n",
            "\u001b[K     |████████████████████████████████| 1.1MB 54.3MB/s \n",
            "\u001b[?25hRequirement already satisfied: regex!=2019.12.17 in /usr/local/lib/python3.6/dist-packages (from transformers) (2019.12.20)\n",
            "Requirement already satisfied: dataclasses; python_version < \"3.7\" in /usr/local/lib/python3.6/dist-packages (from transformers) (0.7)\n",
            "Requirement already satisfied: numpy in /usr/local/lib/python3.6/dist-packages (from transformers) (1.18.5)\n",
            "Requirement already satisfied: requests in /usr/local/lib/python3.6/dist-packages (from transformers) (2.23.0)\n",
            "Collecting sacremoses\n",
            "\u001b[?25l  Downloading https://files.pythonhosted.org/packages/7d/34/09d19aff26edcc8eb2a01bed8e98f13a1537005d31e95233fd48216eed10/sacremoses-0.0.43.tar.gz (883kB)\n",
            "\u001b[K     |████████████████████████████████| 890kB 41.2MB/s \n",
            "\u001b[?25hRequirement already satisfied: filelock in /usr/local/lib/python3.6/dist-packages (from transformers) (3.0.12)\n",
            "Requirement already satisfied: protobuf in /usr/local/lib/python3.6/dist-packages (from transformers) (3.12.4)\n",
            "Requirement already satisfied: packaging in /usr/local/lib/python3.6/dist-packages (from transformers) (20.4)\n",
            "Requirement already satisfied: tqdm>=4.27 in /usr/local/lib/python3.6/dist-packages (from transformers) (4.41.1)\n",
            "Requirement already satisfied: urllib3!=1.25.0,!=1.25.1,<1.26,>=1.21.1 in /usr/local/lib/python3.6/dist-packages (from requests->transformers) (1.24.3)\n",
            "Requirement already satisfied: chardet<4,>=3.0.2 in /usr/local/lib/python3.6/dist-packages (from requests->transformers) (3.0.4)\n",
            "Requirement already satisfied: idna<3,>=2.5 in /usr/local/lib/python3.6/dist-packages (from requests->transformers) (2.10)\n",
            "Requirement already satisfied: certifi>=2017.4.17 in /usr/local/lib/python3.6/dist-packages (from requests->transformers) (2020.6.20)\n",
            "Requirement already satisfied: six in /usr/local/lib/python3.6/dist-packages (from sacremoses->transformers) (1.15.0)\n",
            "Requirement already satisfied: click in /usr/local/lib/python3.6/dist-packages (from sacremoses->transformers) (7.1.2)\n",
            "Requirement already satisfied: joblib in /usr/local/lib/python3.6/dist-packages (from sacremoses->transformers) (0.17.0)\n",
            "Requirement already satisfied: setuptools in /usr/local/lib/python3.6/dist-packages (from protobuf->transformers) (50.3.2)\n",
            "Requirement already satisfied: pyparsing>=2.0.2 in /usr/local/lib/python3.6/dist-packages (from packaging->transformers) (2.4.7)\n",
            "Building wheels for collected packages: sacremoses\n",
            "  Building wheel for sacremoses (setup.py) ... \u001b[?25l\u001b[?25hdone\n",
            "  Created wheel for sacremoses: filename=sacremoses-0.0.43-cp36-none-any.whl size=893257 sha256=5559e71aac57c112954dc0eb015791dbb7f118128dfb7c7282e9b97c2a427e6f\n",
            "  Stored in directory: /root/.cache/pip/wheels/29/3c/fd/7ce5c3f0666dab31a50123635e6fb5e19ceb42ce38d4e58f45\n",
            "Successfully built sacremoses\n",
            "Installing collected packages: tokenizers, sentencepiece, sacremoses, transformers\n",
            "Successfully installed sacremoses-0.0.43 sentencepiece-0.1.91 tokenizers-0.9.3 transformers-3.5.0\n"
          ],
          "name": "stdout"
        }
      ]
    },
    {
      "cell_type": "code",
      "metadata": {
        "id": "wDvyG4l35nxL"
      },
      "source": [
        "import pandas as pd\n",
        "import numpy as np\n",
        "from sklearn.metrics import classification_report, confusion_matrix\n",
        "from transformers import RobertaConfig, RobertaModel, RobertaTokenizer\n",
        "import torch\n",
        "from tqdm import tqdm\n",
        "from torch.utils.data import Dataset, DataLoader"
      ],
      "execution_count": null,
      "outputs": []
    },
    {
      "cell_type": "code",
      "metadata": {
        "id": "WlZ9hcngd0IW",
        "colab": {
          "base_uri": "https://localhost:8080/",
          "height": 35
        },
        "outputId": "919678b8-eaba-4397-b3c2-6c9771709fa1"
      },
      "source": [
        "from torch import cuda\n",
        "device = 'cuda' if cuda.is_available() else 'cpu'\n",
        "device"
      ],
      "execution_count": null,
      "outputs": [
        {
          "output_type": "execute_result",
          "data": {
            "application/vnd.google.colaboratory.intrinsic+json": {
              "type": "string"
            },
            "text/plain": [
              "'cuda'"
            ]
          },
          "metadata": {
            "tags": []
          },
          "execution_count": 3
        }
      ]
    },
    {
      "cell_type": "code",
      "metadata": {
        "id": "0o1gtqHM3YbT"
      },
      "source": [
        "ROOT_PATH = \"/content/drive/My Drive/Magíster 2020\""
      ],
      "execution_count": null,
      "outputs": []
    },
    {
      "cell_type": "code",
      "metadata": {
        "id": "uFr2-adC8XC7"
      },
      "source": [
        "puc_train = pd.read_json(f\"{ROOT_PATH}/Ordenado/new_train_test_data/puc_train_70.json\", orient=\"records\")\n",
        "puc_test = pd.read_json(f\"{ROOT_PATH}/Ordenado/new_train_test_data/puc_test_30.json\", orient=\"records\")\n",
        "\n",
        "puj_train = pd.read_json(f\"{ROOT_PATH}/Ordenado/new_train_test_data/puj_train_70.json\", orient=\"records\")\n",
        "puj_test = pd.read_json(f\"{ROOT_PATH}/Ordenado/new_train_test_data/puj_test_30.json\", orient=\"records\")\n",
        "\n",
        "aurora_train = pd.read_json(f\"{ROOT_PATH}/Ordenado/new_train_test_data/aurora_train_70.json\", orient=\"records\")\n",
        "aurora_test = pd.read_json(f\"{ROOT_PATH}/Ordenado/new_train_test_data/aurora_test_30.json\", orient=\"records\")\n",
        "\n",
        "train = pd.concat([puc_train, puj_train, aurora_train], ignore_index=True)\n",
        "test = pd.concat([puc_test, puj_test, aurora_test], ignore_index=True)"
      ],
      "execution_count": null,
      "outputs": []
    },
    {
      "cell_type": "code",
      "metadata": {
        "id": "M-Z8QPI3ehqG"
      },
      "source": [
        "MAX_LENGTH = 512"
      ],
      "execution_count": null,
      "outputs": []
    },
    {
      "cell_type": "code",
      "metadata": {
        "id": "OozRsAhcfc9m"
      },
      "source": [
        "class MyDataset(Dataset):\n",
        "    def __init__(self, data):\n",
        "        self.data: pd.DataFrame = data\n",
        "        self.abstracts: np.ndarray = data[\"clean_abstract\"].values\n",
        "        self.tokenizer = RobertaTokenizer.from_pretrained('roberta-base', truncation=True, do_lower_case=False)\n",
        "        self.titles: np.ndarray = data[\"title\"].values\n",
        "        self.labels: np.ndarray = data[\"first_sdg\"].values\n",
        "\n",
        "    def __len__(self):\n",
        "        return len(self.abstracts)\n",
        "\n",
        "    def __getitem__(self, index):\n",
        "        abstract_text = str(self.abstracts[index])\n",
        "        abstract_text = \" \".join(abstract_text.split())\n",
        "\n",
        "        title_text = str(self.titles[index])\n",
        "        title_text = \" \".join(title_text.split())\n",
        "\n",
        "        abstract_inputs = self.tokenizer.encode_plus(\n",
        "            abstract_text,\n",
        "            None,\n",
        "            add_special_tokens=True,\n",
        "            max_length=MAX_LENGTH,\n",
        "            return_token_type_ids=True,\n",
        "            truncation=True,\n",
        "            padding=\"max_length\",\n",
        "            return_tensors=\"pt\"\n",
        "        )\n",
        "        abstract_ids = abstract_inputs['input_ids']\n",
        "        abstract_mask = abstract_inputs['attention_mask']\n",
        "        abstract_token_type_ids = abstract_inputs[\"token_type_ids\"]\n",
        "\n",
        "        title_inputs = self.tokenizer.encode_plus(\n",
        "            title_text,\n",
        "            None,\n",
        "            add_special_tokens=True,\n",
        "            max_length=MAX_LENGTH,\n",
        "            return_token_type_ids=True,\n",
        "            truncation=True,\n",
        "            padding=\"max_length\",\n",
        "            return_tensors=\"pt\"\n",
        "        )\n",
        "        title_ids = title_inputs['input_ids']\n",
        "        title_mask = title_inputs['attention_mask']\n",
        "        title_token_type_ids = title_inputs[\"token_type_ids\"]\n",
        "\n",
        "        return {\n",
        "            'abstract_ids': abstract_ids,\n",
        "            'abstract_mask': abstract_mask,\n",
        "            'abstract_token_type_ids': abstract_token_type_ids,\n",
        "            'title_ids': title_ids,\n",
        "            'title_mask': title_mask,\n",
        "            'title_token_type_ids': title_token_type_ids,\n",
        "            'label': torch.tensor(self.labels[index], dtype=torch.long)\n",
        "        }"
      ],
      "execution_count": null,
      "outputs": []
    },
    {
      "cell_type": "code",
      "metadata": {
        "id": "CjoZhZdie23D",
        "colab": {
          "base_uri": "https://localhost:8080/",
          "height": 117,
          "referenced_widgets": [
            "9f08591e031847d58d16cd60acfc14c1",
            "a5844582457b4a09ba89518c99b3e6ec",
            "5de0a4d4578541cc85cc51576e6ed1eb",
            "baa394764c0b4bd5bd47a2ecb40749a8",
            "4eb9a6395698459282954d4a83b124cf",
            "818453718ea049f5b34a767f1f89d0bb",
            "13fc6665b82c431db20e7fff11098c2d",
            "b693b31f1f7b44c8ab4a47cc483b5d40",
            "dd7294442c2a4348b509bc78b518b4b1",
            "371b2e68375f4fb18f7449a57e3a6948",
            "53a03bb87f304cac97aa0998c0d7f3c0",
            "396e63f9304a4239864a61ff39771ebb",
            "8413dbe137ba44c2aab557eaf89ff18b",
            "d740ae6c1eb14eb8af66469f06fc0745",
            "0c930046c4b74c4c8b5b5edf892d2141",
            "742104cb82d94402b5edc23962e79687"
          ]
        },
        "outputId": "9b8c6682-e791-4bf1-f628-161e392969b5"
      },
      "source": [
        "train_dataset = MyDataset(train)\n",
        "test_dataset = MyDataset(test)"
      ],
      "execution_count": null,
      "outputs": [
        {
          "output_type": "display_data",
          "data": {
            "application/vnd.jupyter.widget-view+json": {
              "model_id": "9f08591e031847d58d16cd60acfc14c1",
              "version_minor": 0,
              "version_major": 2
            },
            "text/plain": [
              "HBox(children=(FloatProgress(value=0.0, description='Downloading', max=898823.0, style=ProgressStyle(descripti…"
            ]
          },
          "metadata": {
            "tags": []
          }
        },
        {
          "output_type": "stream",
          "text": [
            "\n"
          ],
          "name": "stdout"
        },
        {
          "output_type": "display_data",
          "data": {
            "application/vnd.jupyter.widget-view+json": {
              "model_id": "dd7294442c2a4348b509bc78b518b4b1",
              "version_minor": 0,
              "version_major": 2
            },
            "text/plain": [
              "HBox(children=(FloatProgress(value=0.0, description='Downloading', max=456318.0, style=ProgressStyle(descripti…"
            ]
          },
          "metadata": {
            "tags": []
          }
        },
        {
          "output_type": "stream",
          "text": [
            "\n"
          ],
          "name": "stdout"
        }
      ]
    },
    {
      "cell_type": "code",
      "metadata": {
        "id": "HVQwwAPmqv8V"
      },
      "source": [
        "TRAIN_BATCH_SIZE = 1\n",
        "VALID_BATCH_SIZE = 1"
      ],
      "execution_count": null,
      "outputs": []
    },
    {
      "cell_type": "code",
      "metadata": {
        "id": "egjg16EMfaq6"
      },
      "source": [
        "train_params = {'batch_size': TRAIN_BATCH_SIZE,\n",
        "                'shuffle': True,\n",
        "                'num_workers': 0\n",
        "                }\n",
        "\n",
        "test_params = {'batch_size': VALID_BATCH_SIZE,\n",
        "                'shuffle': False,\n",
        "                'num_workers': 0\n",
        "                }\n",
        "\n",
        "training_loader = DataLoader(train_dataset, **train_params)\n",
        "testing_loader = DataLoader(test_dataset, **test_params)"
      ],
      "execution_count": null,
      "outputs": []
    },
    {
      "cell_type": "code",
      "metadata": {
        "id": "SH5JYQI0flc_"
      },
      "source": [
        "class Classifier(torch.nn.Module):\n",
        "    def __init__(self):\n",
        "        super().__init__()\n",
        "        self.roberta = RobertaModel.from_pretrained(\"roberta-base\", output_attentions=True, return_dict=True)\n",
        "        self.pre_classifier = torch.nn.Linear(768 * 2, 768)\n",
        "        self.dropout = torch.nn.Dropout(0.3)\n",
        "        self.linear = torch.nn.Linear(768, 18)\n",
        "    \n",
        "    def forward(self, batch):\n",
        "        abstract_ids = torch.reshape(batch[\"abstract_ids\"].to(device, dtype = torch.long), (TRAIN_BATCH_SIZE,MAX_LENGTH))\n",
        "        abstract_mask = torch.reshape(batch[\"abstract_mask\"].to(device, dtype = torch.long), (TRAIN_BATCH_SIZE,MAX_LENGTH))\n",
        "        abstract_token_type_ids = torch.reshape(batch[\"abstract_token_type_ids\"].to(device, dtype = torch.long), (TRAIN_BATCH_SIZE,MAX_LENGTH))\n",
        "        title_ids = torch.reshape(batch[\"title_ids\"].to(device, dtype = torch.long), (TRAIN_BATCH_SIZE,MAX_LENGTH))\n",
        "        title_mask = torch.reshape(batch[\"title_mask\"].to(device, dtype = torch.long), (TRAIN_BATCH_SIZE,MAX_LENGTH))\n",
        "        title_token_type_ids = torch.reshape(batch[\"title_token_type_ids\"].to(device, dtype = torch.long), (TRAIN_BATCH_SIZE,MAX_LENGTH))\n",
        "        X1 = self.roberta(input_ids=abstract_ids, attention_mask=abstract_mask, token_type_ids=abstract_token_type_ids)\n",
        "        abstract_attentions = X1.attentions\n",
        "        X1_pooler = X1.pooler_output\n",
        "        X2 = self.roberta(input_ids=title_ids, attention_mask=title_mask, token_type_ids=title_token_type_ids)\n",
        "        title_attentions = X2.attentions\n",
        "        X2_pooler = X2.pooler_output\n",
        "        X = torch.cat([X1_pooler, X2_pooler], dim=1)\n",
        "        output = self.pre_classifier(X)\n",
        "        output = torch.nn.ReLU()(output)\n",
        "        output = self.dropout(output)\n",
        "        output = self.linear(output)\n",
        "        return abstract_attentions, title_attentions, output"
      ],
      "execution_count": null,
      "outputs": []
    },
    {
      "cell_type": "code",
      "metadata": {
        "id": "oIq9k-xymNOL",
        "colab": {
          "base_uri": "https://localhost:8080/",
          "height": 117,
          "referenced_widgets": [
            "117317b5a5304878a4d73e76b8c40deb",
            "b1706c6c2fe1475682a1ed30dfbdc710",
            "fb0aed5f57db4f19ad2699041fc9df3c",
            "78adbd9826444dbfabeac72f2e0c88f4",
            "fc56883ddf194aad9d9537ea8d2af320",
            "0ee46404531142fd93ce4b4f03b713a7",
            "a46ca37723ef4a8789b50001072f4be4",
            "07a4161cfc584df199fef6b5bf3990b0",
            "b3e4144bdb8b4780805176b35ceddab4",
            "075e96090b024d4b96dd2e6c2a9be71f",
            "e8e674db1c1245749917a5a2632a5d47",
            "18f489f548ff40c58a8ecc9657a4fa08",
            "300e97d5742e40c48eab0440857b875f",
            "e3bfda3c71644f1ba28613276e20fa5d",
            "57a6c44c259b451697853dc9622fcaab",
            "cf77e7e3f0874a8d83fa91464c3eae0b"
          ]
        },
        "outputId": "37f47793-4da0-4fa3-d6d3-0af3a0eb0e92"
      },
      "source": [
        "model = Classifier()\n",
        "model = model.to(device)"
      ],
      "execution_count": null,
      "outputs": [
        {
          "output_type": "display_data",
          "data": {
            "application/vnd.jupyter.widget-view+json": {
              "model_id": "117317b5a5304878a4d73e76b8c40deb",
              "version_minor": 0,
              "version_major": 2
            },
            "text/plain": [
              "HBox(children=(FloatProgress(value=0.0, description='Downloading', max=481.0, style=ProgressStyle(description_…"
            ]
          },
          "metadata": {
            "tags": []
          }
        },
        {
          "output_type": "stream",
          "text": [
            "\n"
          ],
          "name": "stdout"
        },
        {
          "output_type": "display_data",
          "data": {
            "application/vnd.jupyter.widget-view+json": {
              "model_id": "b3e4144bdb8b4780805176b35ceddab4",
              "version_minor": 0,
              "version_major": 2
            },
            "text/plain": [
              "HBox(children=(FloatProgress(value=0.0, description='Downloading', max=501200538.0, style=ProgressStyle(descri…"
            ]
          },
          "metadata": {
            "tags": []
          }
        },
        {
          "output_type": "stream",
          "text": [
            "\n"
          ],
          "name": "stdout"
        }
      ]
    },
    {
      "cell_type": "code",
      "metadata": {
        "id": "Cc-vifM6qyvo"
      },
      "source": [
        "LEARNING_RATE = 1e-05\n",
        "EPOCHS = 3\n",
        "criterion = torch.nn.CrossEntropyLoss()\n",
        "optimizer = torch.optim.Adam(params=model.parameters(), lr=LEARNING_RATE)\n",
        "\n",
        "def calcuate_accuracy(preds, targets):\n",
        "    n_correct = (preds==targets).sum().item()\n",
        "    return n_correct"
      ],
      "execution_count": null,
      "outputs": []
    },
    {
      "cell_type": "code",
      "metadata": {
        "id": "yqinnvH_1c_z",
        "colab": {
          "base_uri": "https://localhost:8080/"
        },
        "outputId": "e0020c76-6fdd-4f48-97a4-a43043d6a7bd"
      },
      "source": [
        "loss_list=[]\n",
        "model.train()\n",
        "for epoch in range(EPOCHS):\n",
        "    tr_loss = 0\n",
        "    n_correct = 0\n",
        "    nb_tr_steps = 0\n",
        "    nb_tr_examples = 0\n",
        "    for index, batch in tqdm(enumerate(training_loader, 0)):\n",
        "        label = batch[\"label\"].to(device, dtype = torch.long)\n",
        "        optimizer.zero_grad()\n",
        "        _, _, output = model(batch)\n",
        "        loss = criterion(output, label)\n",
        "        tr_loss += loss.item()\n",
        "        prob = torch.nn.functional.softmax(output, dim=1)\n",
        "        big_val, big_idx = prob.topk(1, dim=1)\n",
        "        n_correct += calcuate_accuracy(big_idx, label)\n",
        "        nb_tr_steps += 1\n",
        "        nb_tr_examples+=label.size(0)\n",
        "        if index % 500 == 0:\n",
        "            loss_step = tr_loss/nb_tr_steps\n",
        "            accu_step = (n_correct*100)/nb_tr_examples \n",
        "            print(f\"Training Loss per 500 steps: {loss_step}\")\n",
        "            print(f\"Training Accuracy per 500 steps: {accu_step}\")\n",
        "        optimizer.zero_grad()\n",
        "        loss.backward()\n",
        "        optimizer.step()\n",
        "        loss_list.append(loss.data)\n",
        "    print(f'The Total Accuracy for Epoch {epoch}: {(n_correct*100)/nb_tr_examples}')\n",
        "    epoch_loss = tr_loss/nb_tr_steps\n",
        "    epoch_accu = (n_correct*100)/nb_tr_examples\n",
        "    print(f\"Training Loss Epoch: {epoch_loss}\")\n",
        "    print(f\"Training Accuracy Epoch: {epoch_accu}\")"
      ],
      "execution_count": null,
      "outputs": [
        {
          "output_type": "stream",
          "text": [
            "1it [00:00,  2.93it/s]"
          ],
          "name": "stderr"
        },
        {
          "output_type": "stream",
          "text": [
            "Training Loss per 500 steps: 2.7877635955810547\n",
            "Training Accuracy per 500 steps: 100.0\n"
          ],
          "name": "stdout"
        },
        {
          "output_type": "stream",
          "text": [
            "502it [00:57,  8.04it/s]"
          ],
          "name": "stderr"
        },
        {
          "output_type": "stream",
          "text": [
            "Training Loss per 500 steps: 2.3376013446234896\n",
            "Training Accuracy per 500 steps: 35.12974051896207\n"
          ],
          "name": "stdout"
        },
        {
          "output_type": "stream",
          "text": [
            "1002it [01:54,  8.58it/s]"
          ],
          "name": "stderr"
        },
        {
          "output_type": "stream",
          "text": [
            "Training Loss per 500 steps: 2.072864635297647\n",
            "Training Accuracy per 500 steps: 42.05794205794206\n"
          ],
          "name": "stdout"
        },
        {
          "output_type": "stream",
          "text": [
            "1502it [02:51,  8.35it/s]"
          ],
          "name": "stderr"
        },
        {
          "output_type": "stream",
          "text": [
            "Training Loss per 500 steps: 1.9009937654577598\n",
            "Training Accuracy per 500 steps: 46.10259826782145\n"
          ],
          "name": "stdout"
        },
        {
          "output_type": "stream",
          "text": [
            "2002it [03:48,  8.50it/s]"
          ],
          "name": "stderr"
        },
        {
          "output_type": "stream",
          "text": [
            "Training Loss per 500 steps: 1.7687338072004197\n",
            "Training Accuracy per 500 steps: 49.87506246876562\n"
          ],
          "name": "stdout"
        },
        {
          "output_type": "stream",
          "text": [
            "2502it [04:46,  8.83it/s]"
          ],
          "name": "stderr"
        },
        {
          "output_type": "stream",
          "text": [
            "Training Loss per 500 steps: 1.686288415881448\n",
            "Training Accuracy per 500 steps: 52.059176329468215\n"
          ],
          "name": "stdout"
        },
        {
          "output_type": "stream",
          "text": [
            "3002it [05:43,  8.84it/s]"
          ],
          "name": "stderr"
        },
        {
          "output_type": "stream",
          "text": [
            "Training Loss per 500 steps: 1.601691590975852\n",
            "Training Accuracy per 500 steps: 54.115294901699436\n"
          ],
          "name": "stdout"
        },
        {
          "output_type": "stream",
          "text": [
            "3502it [06:41,  8.90it/s]"
          ],
          "name": "stderr"
        },
        {
          "output_type": "stream",
          "text": [
            "Training Loss per 500 steps: 1.5386672501469025\n",
            "Training Accuracy per 500 steps: 55.75549842902028\n"
          ],
          "name": "stdout"
        },
        {
          "output_type": "stream",
          "text": [
            "4002it [07:38,  9.06it/s]"
          ],
          "name": "stderr"
        },
        {
          "output_type": "stream",
          "text": [
            "Training Loss per 500 steps: 1.5039984967566093\n",
            "Training Accuracy per 500 steps: 56.635841039740065\n"
          ],
          "name": "stdout"
        },
        {
          "output_type": "stream",
          "text": [
            "4502it [08:36,  8.47it/s]"
          ],
          "name": "stderr"
        },
        {
          "output_type": "stream",
          "text": [
            "Training Loss per 500 steps: 1.4766145197223972\n",
            "Training Accuracy per 500 steps: 57.25394356809598\n"
          ],
          "name": "stdout"
        },
        {
          "output_type": "stream",
          "text": [
            "5002it [09:34,  8.78it/s]"
          ],
          "name": "stderr"
        },
        {
          "output_type": "stream",
          "text": [
            "Training Loss per 500 steps: 1.449434447794083\n",
            "Training Accuracy per 500 steps: 58.068386322735456\n"
          ],
          "name": "stdout"
        },
        {
          "output_type": "stream",
          "text": [
            "5489it [10:30,  8.71it/s]\n",
            "1it [00:00,  8.82it/s]"
          ],
          "name": "stderr"
        },
        {
          "output_type": "stream",
          "text": [
            "The Total Accuracy for Epoch 0: 58.69921661504828\n",
            "Training Loss Epoch: 1.423986596341733\n",
            "Training Accuracy Epoch: 58.69921661504828\n",
            "Training Loss per 500 steps: 0.6719022989273071\n",
            "Training Accuracy per 500 steps: 100.0\n"
          ],
          "name": "stdout"
        },
        {
          "output_type": "stream",
          "text": [
            "502it [00:58,  8.84it/s]"
          ],
          "name": "stderr"
        },
        {
          "output_type": "stream",
          "text": [
            "Training Loss per 500 steps: 1.0208849784139238\n",
            "Training Accuracy per 500 steps: 71.25748502994011\n"
          ],
          "name": "stdout"
        },
        {
          "output_type": "stream",
          "text": [
            "1002it [01:55,  8.86it/s]"
          ],
          "name": "stderr"
        },
        {
          "output_type": "stream",
          "text": [
            "Training Loss per 500 steps: 0.9691805191939096\n",
            "Training Accuracy per 500 steps: 72.32767232767233\n"
          ],
          "name": "stdout"
        },
        {
          "output_type": "stream",
          "text": [
            "1502it [02:53,  8.36it/s]"
          ],
          "name": "stderr"
        },
        {
          "output_type": "stream",
          "text": [
            "Training Loss per 500 steps: 0.9549945043790825\n",
            "Training Accuracy per 500 steps: 72.618254497002\n"
          ],
          "name": "stdout"
        },
        {
          "output_type": "stream",
          "text": [
            "2002it [03:51,  8.21it/s]"
          ],
          "name": "stderr"
        },
        {
          "output_type": "stream",
          "text": [
            "Training Loss per 500 steps: 0.9487617905254009\n",
            "Training Accuracy per 500 steps: 72.76361819090455\n"
          ],
          "name": "stdout"
        },
        {
          "output_type": "stream",
          "text": [
            "2502it [04:48,  8.79it/s]"
          ],
          "name": "stderr"
        },
        {
          "output_type": "stream",
          "text": [
            "Training Loss per 500 steps: 0.9605420893112175\n",
            "Training Accuracy per 500 steps: 72.05117952818873\n"
          ],
          "name": "stdout"
        },
        {
          "output_type": "stream",
          "text": [
            "3002it [05:45,  9.02it/s]"
          ],
          "name": "stderr"
        },
        {
          "output_type": "stream",
          "text": [
            "Training Loss per 500 steps: 0.9457450070676308\n",
            "Training Accuracy per 500 steps: 72.14261912695768\n"
          ],
          "name": "stdout"
        },
        {
          "output_type": "stream",
          "text": [
            "3502it [06:43,  8.63it/s]"
          ],
          "name": "stderr"
        },
        {
          "output_type": "stream",
          "text": [
            "Training Loss per 500 steps: 0.9562263081514752\n",
            "Training Accuracy per 500 steps: 71.89374464438731\n"
          ],
          "name": "stdout"
        },
        {
          "output_type": "stream",
          "text": [
            "4002it [07:40,  8.61it/s]"
          ],
          "name": "stderr"
        },
        {
          "output_type": "stream",
          "text": [
            "Training Loss per 500 steps: 0.9556686492560916\n",
            "Training Accuracy per 500 steps: 71.65708572856786\n"
          ],
          "name": "stdout"
        },
        {
          "output_type": "stream",
          "text": [
            "4502it [08:37,  8.91it/s]"
          ],
          "name": "stderr"
        },
        {
          "output_type": "stream",
          "text": [
            "Training Loss per 500 steps: 0.9599269283252609\n",
            "Training Accuracy per 500 steps: 71.49522328371474\n"
          ],
          "name": "stdout"
        },
        {
          "output_type": "stream",
          "text": [
            "5002it [09:34,  9.07it/s]"
          ],
          "name": "stderr"
        },
        {
          "output_type": "stream",
          "text": [
            "Training Loss per 500 steps: 0.9576256575901453\n",
            "Training Accuracy per 500 steps: 71.56568686262747\n"
          ],
          "name": "stdout"
        },
        {
          "output_type": "stream",
          "text": [
            "5489it [10:31,  8.70it/s]\n",
            "1it [00:00,  8.98it/s]"
          ],
          "name": "stderr"
        },
        {
          "output_type": "stream",
          "text": [
            "The Total Accuracy for Epoch 1: 71.8345782474039\n",
            "Training Loss Epoch: 0.9488254298666744\n",
            "Training Accuracy Epoch: 71.8345782474039\n",
            "Training Loss per 500 steps: 0.18894918262958527\n",
            "Training Accuracy per 500 steps: 100.0\n"
          ],
          "name": "stdout"
        },
        {
          "output_type": "stream",
          "text": [
            "502it [00:57,  8.79it/s]"
          ],
          "name": "stderr"
        },
        {
          "output_type": "stream",
          "text": [
            "Training Loss per 500 steps: 0.8213807470880881\n",
            "Training Accuracy per 500 steps: 76.84630738522954\n"
          ],
          "name": "stdout"
        },
        {
          "output_type": "stream",
          "text": [
            "1002it [01:55,  8.63it/s]"
          ],
          "name": "stderr"
        },
        {
          "output_type": "stream",
          "text": [
            "Training Loss per 500 steps: 0.8189492940662669\n",
            "Training Accuracy per 500 steps: 76.92307692307692\n"
          ],
          "name": "stdout"
        },
        {
          "output_type": "stream",
          "text": [
            "1502it [02:52,  8.98it/s]"
          ],
          "name": "stderr"
        },
        {
          "output_type": "stream",
          "text": [
            "Training Loss per 500 steps: 0.7878236593663082\n",
            "Training Accuracy per 500 steps: 77.28181212524983\n"
          ],
          "name": "stdout"
        },
        {
          "output_type": "stream",
          "text": [
            "2002it [03:50,  8.99it/s]"
          ],
          "name": "stderr"
        },
        {
          "output_type": "stream",
          "text": [
            "Training Loss per 500 steps: 0.7895250529667985\n",
            "Training Accuracy per 500 steps: 77.11144427786107\n"
          ],
          "name": "stdout"
        },
        {
          "output_type": "stream",
          "text": [
            "2502it [04:47,  9.03it/s]"
          ],
          "name": "stderr"
        },
        {
          "output_type": "stream",
          "text": [
            "Training Loss per 500 steps: 0.7750543003316458\n",
            "Training Accuracy per 500 steps: 77.56897241103559\n"
          ],
          "name": "stdout"
        },
        {
          "output_type": "stream",
          "text": [
            "3002it [05:45,  8.71it/s]"
          ],
          "name": "stderr"
        },
        {
          "output_type": "stream",
          "text": [
            "Training Loss per 500 steps: 0.7622447488910957\n",
            "Training Accuracy per 500 steps: 77.70743085638121\n"
          ],
          "name": "stdout"
        },
        {
          "output_type": "stream",
          "text": [
            "3502it [06:43,  9.06it/s]"
          ],
          "name": "stderr"
        },
        {
          "output_type": "stream",
          "text": [
            "Training Loss per 500 steps: 0.7599869849682637\n",
            "Training Accuracy per 500 steps: 77.83490431305341\n"
          ],
          "name": "stdout"
        },
        {
          "output_type": "stream",
          "text": [
            "4002it [07:40,  8.75it/s]"
          ],
          "name": "stderr"
        },
        {
          "output_type": "stream",
          "text": [
            "Training Loss per 500 steps: 0.7526955410629912\n",
            "Training Accuracy per 500 steps: 77.80554861284679\n"
          ],
          "name": "stdout"
        },
        {
          "output_type": "stream",
          "text": [
            "4502it [08:37,  8.17it/s]"
          ],
          "name": "stderr"
        },
        {
          "output_type": "stream",
          "text": [
            "Training Loss per 500 steps: 0.7588527450671448\n",
            "Training Accuracy per 500 steps: 77.44945567651634\n"
          ],
          "name": "stdout"
        },
        {
          "output_type": "stream",
          "text": [
            "5002it [09:35,  8.69it/s]"
          ],
          "name": "stderr"
        },
        {
          "output_type": "stream",
          "text": [
            "Training Loss per 500 steps: 0.7651990653764587\n",
            "Training Accuracy per 500 steps: 77.18456308738253\n"
          ],
          "name": "stdout"
        },
        {
          "output_type": "stream",
          "text": [
            "5489it [10:31,  8.70it/s]"
          ],
          "name": "stderr"
        },
        {
          "output_type": "stream",
          "text": [
            "The Total Accuracy for Epoch 2: 77.20896338130807\n",
            "Training Loss Epoch: 0.7711411210868914\n",
            "Training Accuracy Epoch: 77.20896338130807\n"
          ],
          "name": "stdout"
        },
        {
          "output_type": "stream",
          "text": [
            "\n"
          ],
          "name": "stderr"
        }
      ]
    },
    {
      "cell_type": "code",
      "metadata": {
        "id": "bj-V6KG2LMEn"
      },
      "source": [
        "torch.save(model, f\"{ROOT_PATH}/Ordenado/with_titles/2020-11-09_roberta_original_with_titles.pt\")"
      ],
      "execution_count": null,
      "outputs": []
    },
    {
      "cell_type": "code",
      "metadata": {
        "id": "lJBLJX9feJX0"
      },
      "source": [
        "model.eval()\n",
        "tr_loss = 0\n",
        "n_correct = 0\n",
        "nb_tr_steps = 0\n",
        "nb_tr_examples = 0\n",
        "y_pred = []\n",
        "y_true = []\n",
        "y_all_probs = []\n",
        "with torch.no_grad():\n",
        "    for batch in testing_loader:\n",
        "        label = batch[\"label\"].to(device, dtype = torch.long)\n",
        "        y_true.append(label.cpu().numpy()[0])\n",
        "        optimizer.zero_grad()\n",
        "        _, _, output = model(batch)\n",
        "        loss = criterion(output, label)\n",
        "        tr_loss += loss.item()\n",
        "        prob = torch.nn.functional.softmax(output, dim=1)\n",
        "        _, big_idx = prob.topk(1, dim=1)\n",
        "        _, all_ordered = prob.topk(18, dim=1)\n",
        "        y_pred.append(big_idx.cpu().numpy()[0][0])\n",
        "        y_all_probs.append(all_ordered[0][:-1].cpu().numpy().tolist())"
      ],
      "execution_count": null,
      "outputs": []
    },
    {
      "cell_type": "code",
      "metadata": {
        "id": "9eXkgBuQ3hGt",
        "colab": {
          "base_uri": "https://localhost:8080/"
        },
        "outputId": "64ff6747-b2dc-4538-d807-dfe9053750c9"
      },
      "source": [
        "y_true == test[\"first_sdg\"].tolist()"
      ],
      "execution_count": null,
      "outputs": [
        {
          "output_type": "execute_result",
          "data": {
            "text/plain": [
              "True"
            ]
          },
          "metadata": {
            "tags": []
          },
          "execution_count": 19
        }
      ]
    },
    {
      "cell_type": "code",
      "metadata": {
        "id": "ChZ1U4TY0G3N",
        "colab": {
          "base_uri": "https://localhost:8080/"
        },
        "outputId": "6f30563c-7e6a-4b5e-a603-368751c45876"
      },
      "source": [
        "print(classification_report(y_true, y_pred))"
      ],
      "execution_count": null,
      "outputs": [
        {
          "output_type": "stream",
          "text": [
            "              precision    recall  f1-score   support\n",
            "\n",
            "           1       0.00      0.00      0.00        13\n",
            "           2       0.62      0.45      0.52        71\n",
            "           3       0.90      0.89      0.90       771\n",
            "           4       0.80      0.87      0.83       201\n",
            "           5       0.73      0.80      0.77       122\n",
            "           6       0.55      0.79      0.65        91\n",
            "           7       0.58      0.76      0.66       109\n",
            "           8       0.50      0.25      0.33        32\n",
            "           9       0.64      0.32      0.42       136\n",
            "          10       0.83      0.62      0.71        79\n",
            "          11       0.70      0.73      0.71       137\n",
            "          12       0.35      0.38      0.37       106\n",
            "          13       0.58      0.50      0.54       116\n",
            "          14       0.58      0.81      0.68        59\n",
            "          15       0.63      0.66      0.65       149\n",
            "          16       0.66      0.75      0.70       109\n",
            "          17       0.34      0.27      0.30        45\n",
            "\n",
            "    accuracy                           0.72      2346\n",
            "   macro avg       0.59      0.58      0.57      2346\n",
            "weighted avg       0.72      0.72      0.71      2346\n",
            "\n"
          ],
          "name": "stdout"
        },
        {
          "output_type": "stream",
          "text": [
            "/usr/local/lib/python3.6/dist-packages/sklearn/metrics/_classification.py:1272: UndefinedMetricWarning: Precision and F-score are ill-defined and being set to 0.0 in labels with no predicted samples. Use `zero_division` parameter to control this behavior.\n",
            "  _warn_prf(average, modifier, msg_start, len(result))\n"
          ],
          "name": "stderr"
        }
      ]
    },
    {
      "cell_type": "code",
      "metadata": {
        "id": "0lbGJMi541hV"
      },
      "source": [
        "y_true = np.asarray(y_true)\n",
        "y_pred = np.asarray(y_pred)\n",
        "\n",
        "misclassified = np.where(y_true != y_pred)[0]"
      ],
      "execution_count": null,
      "outputs": []
    },
    {
      "cell_type": "code",
      "metadata": {
        "id": "tq590GAO5LyI",
        "colab": {
          "base_uri": "https://localhost:8080/"
        },
        "outputId": "f3508faf-5d59-4c60-9a9b-8147212b4c1c"
      },
      "source": [
        "len(misclassified)"
      ],
      "execution_count": null,
      "outputs": [
        {
          "output_type": "execute_result",
          "data": {
            "text/plain": [
              "657"
            ]
          },
          "metadata": {
            "tags": []
          },
          "execution_count": 22
        }
      ]
    },
    {
      "cell_type": "code",
      "metadata": {
        "id": "WdindCiZ5Umq",
        "colab": {
          "base_uri": "https://localhost:8080/"
        },
        "outputId": "a58b517a-f89e-4e15-8269-8eb6c4dc145c"
      },
      "source": [
        "print(test.iloc[misclassified[0]][\"title\"])\n",
        "print(test.iloc[misclassified[0]][\"clean_abstract\"])\n",
        "print(f\"True label: {test.iloc[misclassified[0]]['first_sdg']}\")\n",
        "print(f\"Predicted label: {y_pred[misclassified[0]]}\")\n",
        "print(f\"Second most probable label: {y_all_probs[misclassified[0]][1]}\")"
      ],
      "execution_count": null,
      "outputs": [
        {
          "output_type": "stream",
          "text": [
            "Fgf10 And Sox9 Are Essential For The\n",
            "Establishment Of Distal Progenitor Cells During Mouse Salivary Gland Development\n",
            "Salivary glands are formed by branching morphogenesis with epithelial progenitors forming a network of ducts and acini (secretory cells). During this process, epithelial progenitors specialise into distal (tips of the gland) and proximal (the stalk region) identities that produce the acini and higher order ducts, respectively. Little is known about the factors that regulate progenitor expansion and specialisation in the different parts of the gland. Here, we show that Sox9 is involved in establishing the identity of the distal compartment before the initiation of branching morphogenesis. Sox9 is expressed throughout the gland at the initiation stage before becoming restricted to the distal epithelium from the bud stage and throughout branching morphogenesis. Deletion of Sox9 in the epithelium results in loss of the distal epithelial progenitors, a reduction in proliferation and a subsequent failure in branching. We demonstrate that Sox9 is positively regulated by mesenchymal Fgf10, a process that requires active Erk signalling. These results provide new insights into the factors required for the expansion of salivary gland epithelial progenitors, which can be useful for organ regeneration therapy.\n",
            "True label: 9\n",
            "Predicted label: 3\n",
            "Second most probable label: 9\n"
          ],
          "name": "stdout"
        }
      ]
    },
    {
      "cell_type": "code",
      "metadata": {
        "id": "lfgYaYv-5czG",
        "colab": {
          "base_uri": "https://localhost:8080/"
        },
        "outputId": "928aca25-1e33-4849-87c1-bd9212b9c1f0"
      },
      "source": [
        "print(test.iloc[misclassified[-1]][\"title\"])\n",
        "print(test.iloc[misclassified[0]][\"clean_abstract\"])\n",
        "print(f\"True label: {test.iloc[misclassified[-1]]['first_sdg']}\")\n",
        "print(f\"Predicted label: {y_pred[misclassified[-1]]}\")\n",
        "print(f\"Second most probable label: {y_all_probs[misclassified[-1]][1]}\")"
      ],
      "execution_count": null,
      "outputs": [
        {
          "output_type": "stream",
          "text": [
            "Program For The Development Of Attitudes Of Equality Of Gender In Classes Of Physical Education In Schools\n",
            "Salivary glands are formed by branching morphogenesis with epithelial progenitors forming a network of ducts and acini (secretory cells). During this process, epithelial progenitors specialise into distal (tips of the gland) and proximal (the stalk region) identities that produce the acini and higher order ducts, respectively. Little is known about the factors that regulate progenitor expansion and specialisation in the different parts of the gland. Here, we show that Sox9 is involved in establishing the identity of the distal compartment before the initiation of branching morphogenesis. Sox9 is expressed throughout the gland at the initiation stage before becoming restricted to the distal epithelium from the bud stage and throughout branching morphogenesis. Deletion of Sox9 in the epithelium results in loss of the distal epithelial progenitors, a reduction in proliferation and a subsequent failure in branching. We demonstrate that Sox9 is positively regulated by mesenchymal Fgf10, a process that requires active Erk signalling. These results provide new insights into the factors required for the expansion of salivary gland epithelial progenitors, which can be useful for organ regeneration therapy.\n",
            "True label: 5\n",
            "Predicted label: 4\n",
            "Second most probable label: 10\n"
          ],
          "name": "stdout"
        }
      ]
    },
    {
      "cell_type": "code",
      "metadata": {
        "id": "Ggwaven0hIX6"
      },
      "source": [
        "# https://github.com/benhamner/Metrics/blob/master/Python/ml_metrics/average_precision.py\n",
        "\n",
        "\n",
        "def apk(actual, predicted, k=10):\n",
        "    \"\"\"\n",
        "    Computes the average precision at k.\n",
        "\n",
        "    This function computes the average prescision at k between two lists of\n",
        "    items.\n",
        "\n",
        "    Parameters\n",
        "    ----------\n",
        "    actual : list\n",
        "             A list of elements that are to be predicted (order doesn't matter)\n",
        "    predicted : list\n",
        "                A list of predicted elements (order does matter)\n",
        "    k : int, optional\n",
        "        The maximum number of predicted elements\n",
        "\n",
        "    Returns\n",
        "    -------\n",
        "    score : double\n",
        "            The average precision at k over the input lists\n",
        "\n",
        "    \"\"\"\n",
        "    if len(predicted)>k:\n",
        "        predicted = predicted[:k]\n",
        "\n",
        "    score = 0.0\n",
        "    num_hits = 0.0\n",
        "\n",
        "    for i,p in enumerate(predicted):\n",
        "        if p in actual and p not in predicted[:i]:\n",
        "            num_hits += 1.0\n",
        "            score += num_hits / (i+1.0)\n",
        "\n",
        "    if not actual:\n",
        "        return 0.0\n",
        "\n",
        "    return score / min(len(actual), k)\n",
        "\n",
        "def mapk(actual, predicted, k=10):\n",
        "    \"\"\"\n",
        "    Computes the mean average precision at k.\n",
        "\n",
        "    This function computes the mean average prescision at k between two lists\n",
        "    of lists of items.\n",
        "\n",
        "    Parameters\n",
        "    ----------\n",
        "    actual : list\n",
        "             A list of lists of elements that are to be predicted \n",
        "             (order doesn't matter in the lists)\n",
        "    predicted : list\n",
        "                A list of lists of predicted elements\n",
        "                (order matters in the lists)\n",
        "    k : int, optional\n",
        "        The maximum number of predicted elements\n",
        "\n",
        "    Returns\n",
        "    -------\n",
        "    score : double\n",
        "            The mean average precision at k over the input lists\n",
        "\n",
        "    \"\"\"\n",
        "    return np.mean([apk(a,p,k) for a,p in zip(actual, predicted)])"
      ],
      "execution_count": null,
      "outputs": []
    },
    {
      "cell_type": "code",
      "metadata": {
        "id": "9RXjgya5mGhA"
      },
      "source": [
        "test[\"predicted\"] = y_pred\n",
        "test[\"all_probs\"] = y_all_probs"
      ],
      "execution_count": null,
      "outputs": []
    },
    {
      "cell_type": "code",
      "metadata": {
        "id": "ZCStfbo1mcy5"
      },
      "source": [
        "actual = [[pred] for pred in test[\"first_sdg\"]]"
      ],
      "execution_count": null,
      "outputs": []
    },
    {
      "cell_type": "code",
      "metadata": {
        "id": "IElypWPdmrM3"
      },
      "source": [
        "predicted = test[\"all_probs\"].tolist()"
      ],
      "execution_count": null,
      "outputs": []
    },
    {
      "cell_type": "code",
      "metadata": {
        "id": "-_INXdM8mx0e",
        "colab": {
          "base_uri": "https://localhost:8080/"
        },
        "outputId": "b020089b-78a2-4b35-879a-a63b50d7ba69"
      },
      "source": [
        "for i in range(2, 6):\n",
        "    print(f\"MAP@{i} = {mapk(actual, predicted, i)}\")"
      ],
      "execution_count": null,
      "outputs": [
        {
          "output_type": "stream",
          "text": [
            "MAP@2 = 0.7794117647058824\n",
            "MAP@3 = 0.795751633986928\n",
            "MAP@4 = 0.8031045751633986\n",
            "MAP@5 = 0.8085606706450695\n"
          ],
          "name": "stdout"
        }
      ]
    },
    {
      "cell_type": "code",
      "metadata": {
        "id": "cPLfZIutny2u"
      },
      "source": [
        "def correct_label_not_in_k_top_predicted(row: pd.Series, k: int) -> bool:\n",
        "    return row[\"first_sdg\"] in row[\"all_probs\"][:k]"
      ],
      "execution_count": null,
      "outputs": []
    },
    {
      "cell_type": "code",
      "metadata": {
        "id": "2gCoLW-PoGgx",
        "colab": {
          "base_uri": "https://localhost:8080/"
        },
        "outputId": "4281f8b5-7dc8-4cc8-a92a-072f061be00e"
      },
      "source": [
        "for i in range(2, 6):\n",
        "    test[f\"sdg_in_{i}\"] = test.apply(lambda row: correct_label_not_in_k_top_predicted(row, i), axis=1)\n",
        "    missing = len(test[test[f\"sdg_in_{i}\"].eq(False)])\n",
        "    print(f\"{missing}/{len(test)} ({missing / len(test) * 100}%) with correct label not into the first {i} labels predicted\")"
      ],
      "execution_count": null,
      "outputs": [
        {
          "output_type": "stream",
          "text": [
            "378/2346 (16.11253196930946%) with correct label not into the first 2 labels predicted\n",
            "263/2346 (11.210571184995738%) with correct label not into the first 3 labels predicted\n",
            "194/2346 (8.269394714407502%) with correct label not into the first 4 labels predicted\n",
            "130/2346 (5.541346973572037%) with correct label not into the first 5 labels predicted\n"
          ],
          "name": "stdout"
        }
      ]
    },
    {
      "cell_type": "code",
      "metadata": {
        "id": "wEPqRrDiFoVH"
      },
      "source": [
        "test.to_json(f\"{ROOT_PATH}/Ordenado/with_titles/2020-11-11_roberta_test.json\", orient=\"records\", force_ascii=False)"
      ],
      "execution_count": null,
      "outputs": []
    },
    {
      "cell_type": "code",
      "metadata": {
        "id": "F1yfw5fNo9-j"
      },
      "source": [
        ""
      ],
      "execution_count": null,
      "outputs": []
    }
  ]
}